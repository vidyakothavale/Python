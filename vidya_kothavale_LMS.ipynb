{
 "cells": [
  {
   "cell_type": "markdown",
   "id": "42bd0b62",
   "metadata": {},
   "source": [
    "#### Q1"
   ]
  },
  {
   "cell_type": "code",
   "execution_count": 87,
   "id": "43a52eaf",
   "metadata": {},
   "outputs": [
    {
     "name": "stdout",
     "output_type": "stream",
     "text": [
      "comments:He is a good boy: positive\n",
      "comments:Food is the worst here: negative\n",
      "comments:He is an awesome player: positive\n",
      "comments:She is the best: positive\n",
      "comments:This pizza taste awful: negative\n",
      "comments:These burger are really nice: positive\n"
     ]
    }
   ],
   "source": [
    "\n",
    "positive=['good','awesome','best','nice']\n",
    "negative=['worst','awful']\n",
    "comments = ['He is a good boy',\n",
    "'Food is the worst here',\n",
    "'He is an awesome player',\n",
    "'She is the best',\n",
    "'This pizza taste awful',\n",
    "'These burger are really nice'\n",
    "         ]\n",
    "def analyze(text,pos_words=positive,neg_words=negative):\n",
    "    score=0\n",
    "    tokens=text.split(\" \")\n",
    "    score+=sum(1 for word in tokens if word in pos_words)\n",
    "    score+=sum(-1 for word in tokens if word in neg_words)\n",
    "    if score>0:\n",
    "        sentiment='positive'\n",
    "    elif score<0:\n",
    "        sentiment='negative'\n",
    "    return sentiment\n",
    "\n",
    "for text in comments:\n",
    "    sentiment=analyze(text)\n",
    "    print(f\"comments:{text}: {sentiment}\")"
   ]
  },
  {
   "cell_type": "markdown",
   "id": "0bb203d1",
   "metadata": {},
   "source": [
    "#### Q2"
   ]
  },
  {
   "cell_type": "code",
   "execution_count": 47,
   "id": "c439c465",
   "metadata": {},
   "outputs": [
    {
     "name": "stdout",
     "output_type": "stream",
     "text": [
      "enter number:2\n",
      "13.414213562373096\n"
     ]
    }
   ],
   "source": [
    "n=int(input(\"enter number:\"))\n",
    "def addition(n):\n",
    "    dict={'Square':lambda n:n**2,\n",
    "       'Cube':lambda n:n**3,\n",
    "       'Squreroot':lambda n:n**(1/2), \n",
    "    }\n",
    "    sum=0\n",
    "    for key in dict.keys():\n",
    "        sum+=dict[key](n)\n",
    "    return sum\n",
    "print(addition(n))"
   ]
  },
  {
   "cell_type": "markdown",
   "id": "912441c9",
   "metadata": {},
   "source": [
    "#### Q3"
   ]
  },
  {
   "cell_type": "code",
   "execution_count": 30,
   "id": "ec7ea6e0",
   "metadata": {},
   "outputs": [
    {
     "name": "stdout",
     "output_type": "stream",
     "text": [
      "Sour Fruits: ['Lemon', 'Grapes', 'Kiwi', 'Orange', 'Limes']\n"
     ]
    }
   ],
   "source": [
    "fruits = (('Lemon','sour'),\n",
    "('DragonFruit', 'Sweet'),\n",
    "('Grapes','soUr'),\n",
    "('Kiwi','Sour'),\n",
    "('Apples','sweet'),\n",
    "('Orange','sour'),\n",
    "('Blueberries','sweet'),\n",
    "('Limes','Sour')\n",
    ")\n",
    "a=[]\n",
    "for i in fruits:\n",
    "    f,taste=i\n",
    "    c=\"sour\"\n",
    "    if taste.lower()==c.lower():\n",
    "        a.append(f)\n",
    "print(\"Sour Fruits:\",a)"
   ]
  },
  {
   "cell_type": "markdown",
   "id": "9e417c34",
   "metadata": {},
   "source": [
    "#### Q4"
   ]
  },
  {
   "cell_type": "code",
   "execution_count": 31,
   "id": "2843c260",
   "metadata": {},
   "outputs": [
    {
     "name": "stdout",
     "output_type": "stream",
     "text": [
      "['hOw', 'ARe']\n"
     ]
    }
   ],
   "source": [
    "ls = ['hello', 'Dear', 'hOw', 'ARe', 'You']\n",
    "\n",
    "b=[]\n",
    "for i in ls:\n",
    "    if i[1].isupper():\n",
    "        b.append(i)\n",
    "print(b)"
   ]
  },
  {
   "cell_type": "markdown",
   "id": "eccc7f0d",
   "metadata": {},
   "source": [
    "#### Q5"
   ]
  },
  {
   "cell_type": "code",
   "execution_count": 80,
   "id": "d9499233",
   "metadata": {},
   "outputs": [
    {
     "data": {
      "text/plain": [
       "5.786952089704383"
      ]
     },
     "execution_count": 80,
     "metadata": {},
     "output_type": "execute_result"
    }
   ],
   "source": [
    "WeightOnEarth = {'John':45, 'Shelly':65, 'Marry':35}\n",
    "GMoon =1.622\n",
    "GEarth = 9.81\n",
    "wEarth=[]\n",
    "for i in WeightOnEarth.values():\n",
    "      \n",
    "        wEarth=i \n",
    "a=(lambda wEarth,GMoon,GEarth:(wEarth * GMoon) / GEarth)\n",
    "a(wEarth,GMoon,GEarth)\n"
   ]
  },
  {
   "cell_type": "markdown",
   "id": "ce7300a4",
   "metadata": {},
   "source": [
    "#### Q6"
   ]
  },
  {
   "cell_type": "code",
   "execution_count": 32,
   "id": "7f9f2bd1",
   "metadata": {},
   "outputs": [
    {
     "name": "stdout",
     "output_type": "stream",
     "text": [
      "['Maria', 'Hello', 'World', 'Merry', 'You']\n"
     ]
    }
   ],
   "source": [
    "namesList = ['santa Maria', 'Hello World','Merry christmas', 'tHank You']\n",
    "b=[]\n",
    "c=[]\n",
    "for i in namesList:\n",
    "    b=i.split(\" \")\n",
    "    for j in b:\n",
    "        if j[0].isupper():\n",
    "            c.append(j)\n",
    "print(c)\n"
   ]
  },
  {
   "cell_type": "markdown",
   "id": "18f8ad85",
   "metadata": {},
   "source": [
    "#### Q7"
   ]
  },
  {
   "cell_type": "code",
   "execution_count": 91,
   "id": "d3847ef8",
   "metadata": {},
   "outputs": [
    {
     "data": {
      "text/plain": [
       "{3, 8}"
      ]
     },
     "execution_count": 91,
     "metadata": {},
     "output_type": "execute_result"
    }
   ],
   "source": [
    "from functools import reduce\n",
    "given_sets = [[1, 2, 3, 4, 8], [2, 3, 8, 5, 6], [8, 4, 5, 3, 7], [6, 9, 8, 3], [9,\n",
    "12, 3, 7, 6, 8, 4, 6, 21, 1, 6]]\n",
    "reduce(set.intersection,[set(given_sets_) for given_sets_ in given_sets])\n"
   ]
  },
  {
   "cell_type": "markdown",
   "id": "17c19b32",
   "metadata": {},
   "source": [
    "#### Q8"
   ]
  },
  {
   "cell_type": "code",
   "execution_count": 8,
   "id": "b886bdf5",
   "metadata": {},
   "outputs": [
    {
     "name": "stdout",
     "output_type": "stream",
     "text": [
      "9\n",
      "8.5\n",
      "7.75\n",
      "6.875\n",
      "5.9375\n"
     ]
    }
   ],
   "source": [
    "from itertools import accumulate\n",
    "result= accumulate([9,8,7,6,5],lambda x,y:(x+y)/2)\n",
    "\n",
    "for res in result:\n",
    "    print(res)"
   ]
  },
  {
   "cell_type": "markdown",
   "id": "2005f0bb",
   "metadata": {},
   "source": [
    "#### Q9"
   ]
  },
  {
   "cell_type": "code",
   "execution_count": 35,
   "id": "62e48409",
   "metadata": {},
   "outputs": [
    {
     "data": {
      "text/plain": [
       "['TRUE', 'FALSE', 'TRUE', 'TRUE', 'FALSE', 'FALSE']"
      ]
     },
     "execution_count": 35,
     "metadata": {},
     "output_type": "execute_result"
    }
   ],
   "source": [
    "lsbool = ['True','FALse','tRUe','tRue','False','faLse']\n",
    "list(map(lambda ls:ls.upper(),lsbool))"
   ]
  },
  {
   "cell_type": "markdown",
   "id": "30b26983",
   "metadata": {},
   "source": [
    "#### Q10"
   ]
  },
  {
   "cell_type": "code",
   "execution_count": 37,
   "id": "4dfc5a9e",
   "metadata": {},
   "outputs": [
    {
     "name": "stdout",
     "output_type": "stream",
     "text": [
      "['1997', '2011', '1993', '2020']\n"
     ]
    }
   ],
   "source": [
    "datesList = ['17-12-1997','22-04-2011','01-05-1993','19-06-2020']\n",
    "years=[x.split('-')[2] for x in datesList]\n",
    "print(years)"
   ]
  },
  {
   "cell_type": "code",
   "execution_count": 1,
   "id": "80d6cac9",
   "metadata": {},
   "outputs": [
    {
     "name": "stdout",
     "output_type": "stream",
     "text": [
      "[8, 9, 13, 15, 21]\n"
     ]
    }
   ],
   "source": [
    "a= [8,1,4,2,6]\n",
    "import itertools as it\n",
    "l=[]\n",
    "l = it.accumulate(a)\n",
    "print(list(l))"
   ]
  },
  {
   "cell_type": "code",
   "execution_count": 2,
   "id": "2949feb6",
   "metadata": {},
   "outputs": [
    {
     "name": "stdout",
     "output_type": "stream",
     "text": [
      "[8, 4.5, 4.333333333333333, 3.75, 4.2]\n"
     ]
    }
   ],
   "source": [
    "a= [8,1,4,2,6]\n",
    "import itertools as it\n",
    "l=[]\n",
    "l = it.accumulate(list(enumerate(a)), lambda x,y: (y[0], (x[1]*(x[0]+1) + y[1])/(y[0]+1)))\n",
    "print(list(map(lambda x: x[1], l)))"
   ]
  },
  {
   "cell_type": "code",
   "execution_count": 7,
   "id": "4ee4ee3f",
   "metadata": {},
   "outputs": [
    {
     "name": "stdout",
     "output_type": "stream",
     "text": [
      "8\n",
      "4.5\n",
      "4.25\n",
      "3.125\n",
      "4.5625\n"
     ]
    }
   ],
   "source": [
    "from  itertools import accumulate\n",
    "result=accumulate([8,1,4,2,6],lambda x,y:(x+y)/2)\n",
    "for res in result :\n",
    "    print(res)\n"
   ]
  },
  {
   "cell_type": "code",
   "execution_count": 17,
   "id": "dcb0db8c",
   "metadata": {},
   "outputs": [
    {
     "data": {
      "text/plain": [
       "array([ 2,  6,  7, 13], dtype=int32)"
      ]
     },
     "execution_count": 17,
     "metadata": {},
     "output_type": "execute_result"
    }
   ],
   "source": [
    "import numpy as np\n",
    "a=[2,4,1,6]\n",
    "np.cumsum(a)\n"
   ]
  },
  {
   "cell_type": "code",
   "execution_count": 6,
   "id": "18e2362c",
   "metadata": {},
   "outputs": [
    {
     "name": "stdout",
     "output_type": "stream",
     "text": [
      "1\n",
      "1.5\n",
      "2.25\n",
      "4.625\n",
      "6.8125\n"
     ]
    }
   ],
   "source": [
    " \n",
    "from  itertools import accumulate\n",
    "result=accumulate([1, 2, 3, 7, 9],lambda x,y:(x+y)/2)\n",
    "for i in result :\n",
    "    print(i)\n"
   ]
  },
  {
   "cell_type": "code",
   "execution_count": null,
   "id": "2aff89d1",
   "metadata": {},
   "outputs": [],
   "source": []
  },
  {
   "cell_type": "code",
   "execution_count": null,
   "id": "6f8cbab1",
   "metadata": {},
   "outputs": [],
   "source": []
  }
 ],
 "metadata": {
  "kernelspec": {
   "display_name": "Python 3 (ipykernel)",
   "language": "python",
   "name": "python3"
  },
  "language_info": {
   "codemirror_mode": {
    "name": "ipython",
    "version": 3
   },
   "file_extension": ".py",
   "mimetype": "text/x-python",
   "name": "python",
   "nbconvert_exporter": "python",
   "pygments_lexer": "ipython3",
   "version": "3.9.12"
  }
 },
 "nbformat": 4,
 "nbformat_minor": 5
}
