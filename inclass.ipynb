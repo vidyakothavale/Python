{
 "cells": [
  {
   "cell_type": "markdown",
   "id": "524af8c9",
   "metadata": {},
   "source": [
    "# Q16"
   ]
  },
  {
   "cell_type": "code",
   "execution_count": 1,
   "id": "64f37117",
   "metadata": {},
   "outputs": [],
   "source": [
    "import pandas as pd"
   ]
  },
  {
   "cell_type": "code",
   "execution_count": 2,
   "id": "f893b011",
   "metadata": {},
   "outputs": [
    {
     "data": {
      "text/html": [
       "<div>\n",
       "<style scoped>\n",
       "    .dataframe tbody tr th:only-of-type {\n",
       "        vertical-align: middle;\n",
       "    }\n",
       "\n",
       "    .dataframe tbody tr th {\n",
       "        vertical-align: top;\n",
       "    }\n",
       "\n",
       "    .dataframe thead th {\n",
       "        text-align: right;\n",
       "    }\n",
       "</style>\n",
       "<table border=\"1\" class=\"dataframe\">\n",
       "  <thead>\n",
       "    <tr style=\"text-align: right;\">\n",
       "      <th></th>\n",
       "      <th>Subject</th>\n",
       "      <th>Score</th>\n",
       "    </tr>\n",
       "  </thead>\n",
       "  <tbody>\n",
       "    <tr>\n",
       "      <th>0</th>\n",
       "      <td>Math</td>\n",
       "      <td>345</td>\n",
       "    </tr>\n",
       "    <tr>\n",
       "      <th>1</th>\n",
       "      <td>Physics</td>\n",
       "      <td>432</td>\n",
       "    </tr>\n",
       "    <tr>\n",
       "      <th>2</th>\n",
       "      <td>Chemistry</td>\n",
       "      <td>456</td>\n",
       "    </tr>\n",
       "    <tr>\n",
       "      <th>3</th>\n",
       "      <td>Biology</td>\n",
       "      <td>234</td>\n",
       "    </tr>\n",
       "    <tr>\n",
       "      <th>4</th>\n",
       "      <td>Geology</td>\n",
       "      <td>254</td>\n",
       "    </tr>\n",
       "  </tbody>\n",
       "</table>\n",
       "</div>"
      ],
      "text/plain": [
       "     Subject  Score\n",
       "0       Math    345\n",
       "1    Physics    432\n",
       "2  Chemistry    456\n",
       "3    Biology    234\n",
       "4    Geology    254"
      ]
     },
     "execution_count": 2,
     "metadata": {},
     "output_type": "execute_result"
    }
   ],
   "source": [
    "df={'Subject':(['Math','Physics','Chemistry','Biology','Geology']),\n",
    "   'Score':([345,432,456,234,254])}\n",
    "d=pd.DataFrame(df)\n",
    "d"
   ]
  },
  {
   "cell_type": "code",
   "execution_count": 3,
   "id": "0db461de",
   "metadata": {},
   "outputs": [
    {
     "data": {
      "text/html": [
       "<div>\n",
       "<style scoped>\n",
       "    .dataframe tbody tr th:only-of-type {\n",
       "        vertical-align: middle;\n",
       "    }\n",
       "\n",
       "    .dataframe tbody tr th {\n",
       "        vertical-align: top;\n",
       "    }\n",
       "\n",
       "    .dataframe thead th {\n",
       "        text-align: right;\n",
       "    }\n",
       "</style>\n",
       "<table border=\"1\" class=\"dataframe\">\n",
       "  <thead>\n",
       "    <tr style=\"text-align: right;\">\n",
       "      <th></th>\n",
       "      <th>Subject</th>\n",
       "      <th>Score</th>\n",
       "    </tr>\n",
       "  </thead>\n",
       "  <tbody>\n",
       "    <tr>\n",
       "      <th>0</th>\n",
       "      <td>Math</td>\n",
       "      <td>345</td>\n",
       "    </tr>\n",
       "    <tr>\n",
       "      <th>1</th>\n",
       "      <td>Physics</td>\n",
       "      <td>432</td>\n",
       "    </tr>\n",
       "    <tr>\n",
       "      <th>2</th>\n",
       "      <td>Chemistry</td>\n",
       "      <td>456</td>\n",
       "    </tr>\n",
       "  </tbody>\n",
       "</table>\n",
       "</div>"
      ],
      "text/plain": [
       "     Subject  Score\n",
       "0       Math    345\n",
       "1    Physics    432\n",
       "2  Chemistry    456"
      ]
     },
     "execution_count": 3,
     "metadata": {},
     "output_type": "execute_result"
    }
   ],
   "source": [
    "output=d.loc[(d.Score>=300) & (d.Score<=500),:]\n",
    "output"
   ]
  },
  {
   "cell_type": "markdown",
   "id": "fce7d6e6",
   "metadata": {},
   "source": [
    "# Q17"
   ]
  },
  {
   "cell_type": "code",
   "execution_count": 4,
   "id": "c0c643b2",
   "metadata": {},
   "outputs": [
    {
     "data": {
      "text/plain": [
       "[13432,\n",
       " 11453,\n",
       " 23873,\n",
       " 24567,\n",
       " 11123,\n",
       " 54332,\n",
       " 78799,\n",
       " 12000,\n",
       " 3356,\n",
       " 22344,\n",
       " 32144,\n",
       " 88765]"
      ]
     },
     "execution_count": 4,
     "metadata": {},
     "output_type": "execute_result"
    }
   ],
   "source": [
    "sales=[13432,11453,23873,24567,11123,54332,78799,12000,3356,22344,32144,88765]\n",
    "sales"
   ]
  },
  {
   "cell_type": "code",
   "execution_count": 5,
   "id": "64bbda37",
   "metadata": {},
   "outputs": [
    {
     "name": "stdout",
     "output_type": "stream",
     "text": [
      "13432\n",
      "11453\n",
      "11123\n",
      "12000\n"
     ]
    }
   ],
   "source": [
    "for i in sales:\n",
    "    if(i>10000) & (i<20000):\n",
    "        print(i)"
   ]
  },
  {
   "cell_type": "markdown",
   "id": "b6beb4a8",
   "metadata": {},
   "source": [
    "# Q18"
   ]
  },
  {
   "cell_type": "code",
   "execution_count": 6,
   "id": "ef489065",
   "metadata": {},
   "outputs": [
    {
     "data": {
      "text/html": [
       "<div>\n",
       "<style scoped>\n",
       "    .dataframe tbody tr th:only-of-type {\n",
       "        vertical-align: middle;\n",
       "    }\n",
       "\n",
       "    .dataframe tbody tr th {\n",
       "        vertical-align: top;\n",
       "    }\n",
       "\n",
       "    .dataframe thead th {\n",
       "        text-align: right;\n",
       "    }\n",
       "</style>\n",
       "<table border=\"1\" class=\"dataframe\">\n",
       "  <thead>\n",
       "    <tr style=\"text-align: right;\">\n",
       "      <th></th>\n",
       "      <th>Name</th>\n",
       "      <th>Rank</th>\n",
       "    </tr>\n",
       "  </thead>\n",
       "  <tbody>\n",
       "    <tr>\n",
       "      <th>0</th>\n",
       "      <td>joy</td>\n",
       "      <td>115</td>\n",
       "    </tr>\n",
       "    <tr>\n",
       "      <th>1</th>\n",
       "      <td>Miya</td>\n",
       "      <td>451</td>\n",
       "    </tr>\n",
       "    <tr>\n",
       "      <th>2</th>\n",
       "      <td>Karan</td>\n",
       "      <td>341</td>\n",
       "    </tr>\n",
       "    <tr>\n",
       "      <th>3</th>\n",
       "      <td>Tom</td>\n",
       "      <td>84</td>\n",
       "    </tr>\n",
       "  </tbody>\n",
       "</table>\n",
       "</div>"
      ],
      "text/plain": [
       "    Name  Rank\n",
       "0    joy   115\n",
       "1   Miya   451\n",
       "2  Karan   341\n",
       "3    Tom    84"
      ]
     },
     "execution_count": 6,
     "metadata": {},
     "output_type": "execute_result"
    }
   ],
   "source": [
    "R={'Name':['joy','Miya','Karan','Tom'],\n",
    "  'Rank':[115,451,341,84]}\n",
    "df=pd.DataFrame(R)\n",
    "df"
   ]
  },
  {
   "cell_type": "code",
   "execution_count": 7,
   "id": "b84235eb",
   "metadata": {},
   "outputs": [
    {
     "data": {
      "text/html": [
       "<div>\n",
       "<style scoped>\n",
       "    .dataframe tbody tr th:only-of-type {\n",
       "        vertical-align: middle;\n",
       "    }\n",
       "\n",
       "    .dataframe tbody tr th {\n",
       "        vertical-align: top;\n",
       "    }\n",
       "\n",
       "    .dataframe thead th {\n",
       "        text-align: right;\n",
       "    }\n",
       "</style>\n",
       "<table border=\"1\" class=\"dataframe\">\n",
       "  <thead>\n",
       "    <tr style=\"text-align: right;\">\n",
       "      <th></th>\n",
       "      <th>Name</th>\n",
       "      <th>Rank</th>\n",
       "    </tr>\n",
       "  </thead>\n",
       "  <tbody>\n",
       "    <tr>\n",
       "      <th>1</th>\n",
       "      <td>Miya</td>\n",
       "      <td>451</td>\n",
       "    </tr>\n",
       "    <tr>\n",
       "      <th>2</th>\n",
       "      <td>Karan</td>\n",
       "      <td>341</td>\n",
       "    </tr>\n",
       "    <tr>\n",
       "      <th>0</th>\n",
       "      <td>joy</td>\n",
       "      <td>115</td>\n",
       "    </tr>\n",
       "    <tr>\n",
       "      <th>3</th>\n",
       "      <td>Tom</td>\n",
       "      <td>84</td>\n",
       "    </tr>\n",
       "  </tbody>\n",
       "</table>\n",
       "</div>"
      ],
      "text/plain": [
       "    Name  Rank\n",
       "1   Miya   451\n",
       "2  Karan   341\n",
       "0    joy   115\n",
       "3    Tom    84"
      ]
     },
     "execution_count": 7,
     "metadata": {},
     "output_type": "execute_result"
    }
   ],
   "source": [
    "df.sort_values(by=\"Rank\" ,ascending=False)\n"
   ]
  },
  {
   "cell_type": "markdown",
   "id": "2e649367",
   "metadata": {},
   "source": [
    "# Q19"
   ]
  },
  {
   "cell_type": "code",
   "execution_count": 8,
   "id": "276db2ee",
   "metadata": {},
   "outputs": [
    {
     "data": {
      "text/html": [
       "<div>\n",
       "<style scoped>\n",
       "    .dataframe tbody tr th:only-of-type {\n",
       "        vertical-align: middle;\n",
       "    }\n",
       "\n",
       "    .dataframe tbody tr th {\n",
       "        vertical-align: top;\n",
       "    }\n",
       "\n",
       "    .dataframe thead th {\n",
       "        text-align: right;\n",
       "    }\n",
       "</style>\n",
       "<table border=\"1\" class=\"dataframe\">\n",
       "  <thead>\n",
       "    <tr style=\"text-align: right;\">\n",
       "      <th></th>\n",
       "      <th>Name</th>\n",
       "      <th>Rank</th>\n",
       "    </tr>\n",
       "  </thead>\n",
       "  <tbody>\n",
       "    <tr>\n",
       "      <th>1</th>\n",
       "      <td>Miya</td>\n",
       "      <td>451</td>\n",
       "    </tr>\n",
       "    <tr>\n",
       "      <th>0</th>\n",
       "      <td>joy</td>\n",
       "      <td>115</td>\n",
       "    </tr>\n",
       "    <tr>\n",
       "      <th>2</th>\n",
       "      <td>Karan</td>\n",
       "      <td>341</td>\n",
       "    </tr>\n",
       "    <tr>\n",
       "      <th>3</th>\n",
       "      <td>Tom</td>\n",
       "      <td>84</td>\n",
       "    </tr>\n",
       "  </tbody>\n",
       "</table>\n",
       "</div>"
      ],
      "text/plain": [
       "    Name  Rank\n",
       "1   Miya   451\n",
       "0    joy   115\n",
       "2  Karan   341\n",
       "3    Tom    84"
      ]
     },
     "execution_count": 8,
     "metadata": {},
     "output_type": "execute_result"
    }
   ],
   "source": [
    "df.reindex([1,0,2,3])"
   ]
  },
  {
   "cell_type": "markdown",
   "id": "d402705c",
   "metadata": {},
   "source": [
    "# Q20"
   ]
  },
  {
   "cell_type": "code",
   "execution_count": 9,
   "id": "64f37c05",
   "metadata": {},
   "outputs": [],
   "source": [
    "import pandas as pd"
   ]
  },
  {
   "cell_type": "code",
   "execution_count": 10,
   "id": "c69896f4",
   "metadata": {},
   "outputs": [
    {
     "data": {
      "text/html": [
       "<div>\n",
       "<style scoped>\n",
       "    .dataframe tbody tr th:only-of-type {\n",
       "        vertical-align: middle;\n",
       "    }\n",
       "\n",
       "    .dataframe tbody tr th {\n",
       "        vertical-align: top;\n",
       "    }\n",
       "\n",
       "    .dataframe thead th {\n",
       "        text-align: right;\n",
       "    }\n",
       "</style>\n",
       "<table border=\"1\" class=\"dataframe\">\n",
       "  <thead>\n",
       "    <tr style=\"text-align: right;\">\n",
       "      <th></th>\n",
       "      <th>Name</th>\n",
       "      <th>Age</th>\n",
       "      <th>Gender</th>\n",
       "    </tr>\n",
       "  </thead>\n",
       "  <tbody>\n",
       "    <tr>\n",
       "      <th>0</th>\n",
       "      <td>Miya</td>\n",
       "      <td>47</td>\n",
       "      <td>1</td>\n",
       "    </tr>\n",
       "    <tr>\n",
       "      <th>1</th>\n",
       "      <td>sara</td>\n",
       "      <td>38</td>\n",
       "      <td>1</td>\n",
       "    </tr>\n",
       "    <tr>\n",
       "      <th>2</th>\n",
       "      <td>Joy</td>\n",
       "      <td>47</td>\n",
       "      <td>0</td>\n",
       "    </tr>\n",
       "    <tr>\n",
       "      <th>3</th>\n",
       "      <td>Karan</td>\n",
       "      <td>41</td>\n",
       "      <td>0</td>\n",
       "    </tr>\n",
       "  </tbody>\n",
       "</table>\n",
       "</div>"
      ],
      "text/plain": [
       "    Name  Age  Gender\n",
       "0   Miya   47       1\n",
       "1   sara   38       1\n",
       "2    Joy   47       0\n",
       "3  Karan   41       0"
      ]
     },
     "execution_count": 10,
     "metadata": {},
     "output_type": "execute_result"
    }
   ],
   "source": [
    "R={'Name':(['Miya','sara','Joy','Karan']),\n",
    "  'Age':([47,38,47,41]),\n",
    "   'Gender':([1,1,0,0])\n",
    "  \n",
    "  }\n",
    "df=pd.DataFrame(R)\n",
    "df"
   ]
  },
  {
   "cell_type": "code",
   "execution_count": 11,
   "id": "545fec76",
   "metadata": {},
   "outputs": [],
   "source": [
    "df['Gender']=df['Gender'].replace([0,1],['F','M'])\n"
   ]
  },
  {
   "cell_type": "markdown",
   "id": "69431d62",
   "metadata": {},
   "source": [
    "# Q21"
   ]
  },
  {
   "cell_type": "code",
   "execution_count": 12,
   "id": "ab91f283",
   "metadata": {},
   "outputs": [
    {
     "name": "stdout",
     "output_type": "stream",
     "text": [
      "\n",
      " 1D array:\n",
      " [331 245 246 475 348 229]\n",
      "\n",
      " 2D array:\n",
      " [[331 245 246]\n",
      " [475 348 229]]\n"
     ]
    }
   ],
   "source": [
    "import numpy as np\n",
    "dim_1=np.array([331,245,246,475,348,229])\n",
    "\n",
    "dim_2=dim_1.reshape(2,3)\n",
    "print('\\n 1D array:\\n',dim_1)\n",
    "print('\\n 2D array:\\n',dim_2)"
   ]
  },
  {
   "cell_type": "markdown",
   "id": "60e51172",
   "metadata": {},
   "source": [
    "# Q22"
   ]
  },
  {
   "cell_type": "code",
   "execution_count": 13,
   "id": "651e434e",
   "metadata": {},
   "outputs": [
    {
     "data": {
      "text/html": [
       "<div>\n",
       "<style scoped>\n",
       "    .dataframe tbody tr th:only-of-type {\n",
       "        vertical-align: middle;\n",
       "    }\n",
       "\n",
       "    .dataframe tbody tr th {\n",
       "        vertical-align: top;\n",
       "    }\n",
       "\n",
       "    .dataframe thead th {\n",
       "        text-align: right;\n",
       "    }\n",
       "</style>\n",
       "<table border=\"1\" class=\"dataframe\">\n",
       "  <thead>\n",
       "    <tr style=\"text-align: right;\">\n",
       "      <th></th>\n",
       "      <th>product_a</th>\n",
       "      <th>product_b</th>\n",
       "      <th>product_c</th>\n",
       "    </tr>\n",
       "  </thead>\n",
       "  <tbody>\n",
       "    <tr>\n",
       "      <th>shop1</th>\n",
       "      <td>10</td>\n",
       "      <td>17</td>\n",
       "      <td>25</td>\n",
       "    </tr>\n",
       "    <tr>\n",
       "      <th>shop2</th>\n",
       "      <td>20</td>\n",
       "      <td>14</td>\n",
       "      <td>15</td>\n",
       "    </tr>\n",
       "    <tr>\n",
       "      <th>shop3</th>\n",
       "      <td>30</td>\n",
       "      <td>21</td>\n",
       "      <td>12</td>\n",
       "    </tr>\n",
       "  </tbody>\n",
       "</table>\n",
       "</div>"
      ],
      "text/plain": [
       "       product_a  product_b  product_c\n",
       "shop1         10         17         25\n",
       "shop2         20         14         15\n",
       "shop3         30         21         12"
      ]
     },
     "execution_count": 13,
     "metadata": {},
     "output_type": "execute_result"
    }
   ],
   "source": [
    "import pandas as pd\n",
    "d3={'product_a':[10,20,30],\n",
    "    'product_b':[17,14,21],\n",
    "    'product_c':[25,15,12]\n",
    "   }\n",
    "df=pd.DataFrame(d3,index=['shop1','shop2','shop3'])\n",
    "df"
   ]
  },
  {
   "cell_type": "code",
   "execution_count": 14,
   "id": "a41c57eb",
   "metadata": {},
   "outputs": [
    {
     "data": {
      "text/plain": [
       "shop1    17.333333\n",
       "shop2    16.333333\n",
       "shop3    21.000000\n",
       "dtype: float64"
      ]
     },
     "execution_count": 14,
     "metadata": {},
     "output_type": "execute_result"
    }
   ],
   "source": [
    "df.mean(axis=1)"
   ]
  },
  {
   "cell_type": "markdown",
   "id": "67f9935a",
   "metadata": {},
   "source": [
    "# Q23"
   ]
  },
  {
   "cell_type": "code",
   "execution_count": 15,
   "id": "f552fce0",
   "metadata": {},
   "outputs": [
    {
     "data": {
      "text/plain": [
       "[35, 56, 34, 43, 2, 3, 27, 43, 76, 64, 83, 12]"
      ]
     },
     "execution_count": 15,
     "metadata": {},
     "output_type": "execute_result"
    }
   ],
   "source": [
    "weight=[35,56,34,43,2,3,27,43,76,64,83,12]\n",
    "weight"
   ]
  },
  {
   "cell_type": "code",
   "execution_count": 16,
   "id": "d5b61db4",
   "metadata": {},
   "outputs": [
    {
     "data": {
      "text/plain": [
       "<AxesSubplot:ylabel='Count'>"
      ]
     },
     "execution_count": 16,
     "metadata": {},
     "output_type": "execute_result"
    },
    {
     "data": {
      "image/png": "[encoded data removed]",
      "text/plain": [
       "<Figure size 432x288 with 1 Axes>"
      ]
     },
     "metadata": {
      "needs_background": "light"
     },
     "output_type": "display_data"
    }
   ],
   "source": [
    "import seaborn as sns\n",
    "sns.histplot(weight)"
   ]
  },
  {
   "cell_type": "markdown",
   "id": "03d6c6ec",
   "metadata": {},
   "source": [
    "# Q24"
   ]
  },
  {
   "cell_type": "code",
   "execution_count": 17,
   "id": "5e0757e1",
   "metadata": {},
   "outputs": [
    {
     "name": "stdout",
     "output_type": "stream",
     "text": [
      "[11, 12, 13]\n"
     ]
    }
   ],
   "source": [
    "Series_a=pd.Series([11,12,13,14,15])\n",
    "Series_b=pd.Series([14,15,16,17,18])\n",
    "\n",
    "res=list(Series_a[~Series_a.isin(Series_b)])\n",
    "print(res)"
   ]
  },
  {
   "cell_type": "markdown",
   "id": "8be85264",
   "metadata": {},
   "source": [
    "# Q25"
   ]
  },
  {
   "cell_type": "code",
   "execution_count": 18,
   "id": "3a8f0a17",
   "metadata": {},
   "outputs": [
    {
     "data": {
      "text/plain": [
       "array([[22,  4,  7, 33, 26, 18,  4],\n",
       "       [ 8, 15, 37,  0,  2, 29, 33],\n",
       "       [17, 35, 36, 10, 13,  3, 10],\n",
       "       [16,  2, 12, 30, 39, 22,  8],\n",
       "       [36, 19, 16, 13, 39, 24, 33]])"
      ]
     },
     "execution_count": 18,
     "metadata": {},
     "output_type": "execute_result"
    }
   ],
   "source": [
    "import numpy as np\n",
    "np.random.randint(0,40,size=(5,7))"
   ]
  },
  {
   "cell_type": "markdown",
   "id": "9771c9cc",
   "metadata": {},
   "source": [
    "# Q26"
   ]
  },
  {
   "cell_type": "code",
   "execution_count": 19,
   "id": "f86e5d34",
   "metadata": {},
   "outputs": [
    {
     "data": {
      "text/plain": [
       "array([14, 22, 44])"
      ]
     },
     "execution_count": 19,
     "metadata": {},
     "output_type": "execute_result"
    }
   ],
   "source": [
    "test_1=np.array([11,12,14,22,23,44,43,24,45,36])\n",
    "test_2=np.array([17,22,14,22,47,44,29,28])\n",
    "np.intersect1d(test_1,test_2)"
   ]
  },
  {
   "cell_type": "markdown",
   "id": "3c66108f",
   "metadata": {},
   "source": [
    "# Q27"
   ]
  },
  {
   "cell_type": "code",
   "execution_count": 20,
   "id": "eccb6688",
   "metadata": {},
   "outputs": [
    {
     "data": {
      "text/plain": [
       "<bound method DataFrame.info of      year month  passengers\n",
       "0    1949   Jan         112\n",
       "1    1949   Feb         118\n",
       "2    1949   Mar         132\n",
       "3    1949   Apr         129\n",
       "4    1949   May         121\n",
       "..    ...   ...         ...\n",
       "139  1960   Aug         606\n",
       "140  1960   Sep         508\n",
       "141  1960   Oct         461\n",
       "142  1960   Nov         390\n",
       "143  1960   Dec         432\n",
       "\n",
       "[144 rows x 3 columns]>"
      ]
     },
     "execution_count": 20,
     "metadata": {},
     "output_type": "execute_result"
    }
   ],
   "source": [
    "import seaborn as sns\n",
    "df=sns.load_dataset('flights')\n",
    "df.info"
   ]
  },
  {
   "cell_type": "code",
   "execution_count": 21,
   "id": "18c57991",
   "metadata": {},
   "outputs": [
    {
     "data": {
      "text/html": [
       "<div>\n",
       "<style scoped>\n",
       "    .dataframe tbody tr th:only-of-type {\n",
       "        vertical-align: middle;\n",
       "    }\n",
       "\n",
       "    .dataframe tbody tr th {\n",
       "        vertical-align: top;\n",
       "    }\n",
       "\n",
       "    .dataframe thead th {\n",
       "        text-align: right;\n",
       "    }\n",
       "</style>\n",
       "<table border=\"1\" class=\"dataframe\">\n",
       "  <thead>\n",
       "    <tr style=\"text-align: right;\">\n",
       "      <th></th>\n",
       "      <th>Product</th>\n",
       "      <th>Country</th>\n",
       "      <th>Sales</th>\n",
       "    </tr>\n",
       "  </thead>\n",
       "  <tbody>\n",
       "    <tr>\n",
       "      <th>0</th>\n",
       "      <td>A</td>\n",
       "      <td>USA</td>\n",
       "      <td>44000</td>\n",
       "    </tr>\n",
       "    <tr>\n",
       "      <th>1</th>\n",
       "      <td>J</td>\n",
       "      <td>Japan</td>\n",
       "      <td>43000</td>\n",
       "    </tr>\n",
       "    <tr>\n",
       "      <th>2</th>\n",
       "      <td>A</td>\n",
       "      <td>Europe</td>\n",
       "      <td>54000</td>\n",
       "    </tr>\n",
       "    <tr>\n",
       "      <th>3</th>\n",
       "      <td>L</td>\n",
       "      <td>Japan</td>\n",
       "      <td>95600</td>\n",
       "    </tr>\n",
       "    <tr>\n",
       "      <th>4</th>\n",
       "      <td>R</td>\n",
       "      <td>Europe</td>\n",
       "      <td>79000</td>\n",
       "    </tr>\n",
       "    <tr>\n",
       "      <th>5</th>\n",
       "      <td>A</td>\n",
       "      <td>USA</td>\n",
       "      <td>67000</td>\n",
       "    </tr>\n",
       "    <tr>\n",
       "      <th>6</th>\n",
       "      <td>R</td>\n",
       "      <td>USA</td>\n",
       "      <td>68000</td>\n",
       "    </tr>\n",
       "    <tr>\n",
       "      <th>7</th>\n",
       "      <td>J</td>\n",
       "      <td>Japan</td>\n",
       "      <td>38000</td>\n",
       "    </tr>\n",
       "    <tr>\n",
       "      <th>8</th>\n",
       "      <td>L</td>\n",
       "      <td>USA</td>\n",
       "      <td>59000</td>\n",
       "    </tr>\n",
       "    <tr>\n",
       "      <th>9</th>\n",
       "      <td>A</td>\n",
       "      <td>Europe</td>\n",
       "      <td>60000</td>\n",
       "    </tr>\n",
       "  </tbody>\n",
       "</table>\n",
       "</div>"
      ],
      "text/plain": [
       "  Product Country  Sales\n",
       "0       A     USA  44000\n",
       "1       J   Japan  43000\n",
       "2       A  Europe  54000\n",
       "3       L   Japan  95600\n",
       "4       R  Europe  79000\n",
       "5       A     USA  67000\n",
       "6       R     USA  68000\n",
       "7       J   Japan  38000\n",
       "8       L     USA  59000\n",
       "9       A  Europe  60000"
      ]
     },
     "execution_count": 21,
     "metadata": {},
     "output_type": "execute_result"
    }
   ],
   "source": [
    "import pandas as pd\n",
    "df=pd.read_excel(r\"Country.xlsx\")\n",
    "df"
   ]
  },
  {
   "cell_type": "code",
   "execution_count": 22,
   "id": "e7c1e8a9",
   "metadata": {},
   "outputs": [
    {
     "data": {
      "text/html": [
       "<div>\n",
       "<style scoped>\n",
       "    .dataframe tbody tr th:only-of-type {\n",
       "        vertical-align: middle;\n",
       "    }\n",
       "\n",
       "    .dataframe tbody tr th {\n",
       "        vertical-align: top;\n",
       "    }\n",
       "\n",
       "    .dataframe thead th {\n",
       "        text-align: right;\n",
       "    }\n",
       "</style>\n",
       "<table border=\"1\" class=\"dataframe\">\n",
       "  <thead>\n",
       "    <tr style=\"text-align: right;\">\n",
       "      <th></th>\n",
       "      <th></th>\n",
       "      <th>Sales</th>\n",
       "    </tr>\n",
       "    <tr>\n",
       "      <th>Product</th>\n",
       "      <th>Country</th>\n",
       "      <th></th>\n",
       "    </tr>\n",
       "  </thead>\n",
       "  <tbody>\n",
       "    <tr>\n",
       "      <th rowspan=\"2\" valign=\"top\">A</th>\n",
       "      <th>Europe</th>\n",
       "      <td>114000</td>\n",
       "    </tr>\n",
       "    <tr>\n",
       "      <th>USA</th>\n",
       "      <td>111000</td>\n",
       "    </tr>\n",
       "    <tr>\n",
       "      <th>J</th>\n",
       "      <th>Japan</th>\n",
       "      <td>81000</td>\n",
       "    </tr>\n",
       "    <tr>\n",
       "      <th rowspan=\"2\" valign=\"top\">L</th>\n",
       "      <th>Japan</th>\n",
       "      <td>95600</td>\n",
       "    </tr>\n",
       "    <tr>\n",
       "      <th>USA</th>\n",
       "      <td>59000</td>\n",
       "    </tr>\n",
       "    <tr>\n",
       "      <th rowspan=\"2\" valign=\"top\">R</th>\n",
       "      <th>Europe</th>\n",
       "      <td>79000</td>\n",
       "    </tr>\n",
       "    <tr>\n",
       "      <th>USA</th>\n",
       "      <td>68000</td>\n",
       "    </tr>\n",
       "  </tbody>\n",
       "</table>\n",
       "</div>"
      ],
      "text/plain": [
       "                  Sales\n",
       "Product Country        \n",
       "A       Europe   114000\n",
       "        USA      111000\n",
       "J       Japan     81000\n",
       "L       Japan     95600\n",
       "        USA       59000\n",
       "R       Europe    79000\n",
       "        USA       68000"
      ]
     },
     "execution_count": 22,
     "metadata": {},
     "output_type": "execute_result"
    }
   ],
   "source": [
    "df.groupby(['Product','Country'])[['Sales']].sum()"
   ]
  },
  {
   "cell_type": "markdown",
   "id": "ac471419",
   "metadata": {},
   "source": [
    "# Q29"
   ]
  },
  {
   "cell_type": "code",
   "execution_count": 23,
   "id": "93a7c8de",
   "metadata": {},
   "outputs": [
    {
     "data": {
      "text/html": [
       "<div>\n",
       "<style scoped>\n",
       "    .dataframe tbody tr th:only-of-type {\n",
       "        vertical-align: middle;\n",
       "    }\n",
       "\n",
       "    .dataframe tbody tr th {\n",
       "        vertical-align: top;\n",
       "    }\n",
       "\n",
       "    .dataframe thead th {\n",
       "        text-align: right;\n",
       "    }\n",
       "</style>\n",
       "<table border=\"1\" class=\"dataframe\">\n",
       "  <thead>\n",
       "    <tr style=\"text-align: right;\">\n",
       "      <th></th>\n",
       "      <th>count</th>\n",
       "      <th>mean</th>\n",
       "      <th>std</th>\n",
       "      <th>min</th>\n",
       "      <th>25%</th>\n",
       "      <th>50%</th>\n",
       "      <th>75%</th>\n",
       "      <th>max</th>\n",
       "    </tr>\n",
       "    <tr>\n",
       "      <th>Country</th>\n",
       "      <th></th>\n",
       "      <th></th>\n",
       "      <th></th>\n",
       "      <th></th>\n",
       "      <th></th>\n",
       "      <th></th>\n",
       "      <th></th>\n",
       "      <th></th>\n",
       "    </tr>\n",
       "  </thead>\n",
       "  <tbody>\n",
       "    <tr>\n",
       "      <th>Europe</th>\n",
       "      <td>3.0</td>\n",
       "      <td>64333.333333</td>\n",
       "      <td>13051.181300</td>\n",
       "      <td>54000.0</td>\n",
       "      <td>57000.0</td>\n",
       "      <td>60000.0</td>\n",
       "      <td>69500.0</td>\n",
       "      <td>79000.0</td>\n",
       "    </tr>\n",
       "    <tr>\n",
       "      <th>Japan</th>\n",
       "      <td>3.0</td>\n",
       "      <td>58866.666667</td>\n",
       "      <td>31910.082001</td>\n",
       "      <td>38000.0</td>\n",
       "      <td>40500.0</td>\n",
       "      <td>43000.0</td>\n",
       "      <td>69300.0</td>\n",
       "      <td>95600.0</td>\n",
       "    </tr>\n",
       "    <tr>\n",
       "      <th>USA</th>\n",
       "      <td>4.0</td>\n",
       "      <td>59500.000000</td>\n",
       "      <td>11090.536506</td>\n",
       "      <td>44000.0</td>\n",
       "      <td>55250.0</td>\n",
       "      <td>63000.0</td>\n",
       "      <td>67250.0</td>\n",
       "      <td>68000.0</td>\n",
       "    </tr>\n",
       "  </tbody>\n",
       "</table>\n",
       "</div>"
      ],
      "text/plain": [
       "         count          mean           std      min      25%      50%  \\\n",
       "Country                                                                 \n",
       "Europe     3.0  64333.333333  13051.181300  54000.0  57000.0  60000.0   \n",
       "Japan      3.0  58866.666667  31910.082001  38000.0  40500.0  43000.0   \n",
       "USA        4.0  59500.000000  11090.536506  44000.0  55250.0  63000.0   \n",
       "\n",
       "             75%      max  \n",
       "Country                    \n",
       "Europe   69500.0  79000.0  \n",
       "Japan    69300.0  95600.0  \n",
       "USA      67250.0  68000.0  "
      ]
     },
     "execution_count": 23,
     "metadata": {},
     "output_type": "execute_result"
    }
   ],
   "source": [
    "df.groupby(['Country'])['Sales'].describe()"
   ]
  },
  {
   "cell_type": "markdown",
   "id": "20fae123",
   "metadata": {},
   "source": [
    "# Q30"
   ]
  },
  {
   "cell_type": "code",
   "execution_count": 24,
   "id": "0b730ddd",
   "metadata": {},
   "outputs": [
    {
     "data": {
      "text/plain": [
       "array([[ 0,  1,  2,  3,  4],\n",
       "       [ 5,  6,  7,  8,  9],\n",
       "       [10, 11, 12, 13, 14],\n",
       "       [15, 16, 17, 18, 19]])"
      ]
     },
     "execution_count": 24,
     "metadata": {},
     "output_type": "execute_result"
    }
   ],
   "source": [
    "num_array=np.arange(20).reshape(4,5)\n",
    "num_array"
   ]
  },
  {
   "cell_type": "markdown",
   "id": "b8a06003",
   "metadata": {},
   "source": [
    "# Q1"
   ]
  },
  {
   "cell_type": "code",
   "execution_count": 25,
   "id": "7b2624eb",
   "metadata": {},
   "outputs": [
    {
     "name": "stdout",
     "output_type": "stream",
     "text": [
      "Enter year to be checked=2000\n",
      "leap year\n"
     ]
    }
   ],
   "source": [
    "x=int(input(\"Enter year to be checked=\"))\n",
    "if x%4==0:\n",
    "    print('leap year')\n",
    "else:\n",
    "    print(\"not leap year\")"
   ]
  },
  {
   "cell_type": "markdown",
   "id": "c859f31f",
   "metadata": {},
   "source": [
    "# Q2"
   ]
  },
  {
   "cell_type": "code",
   "execution_count": 26,
   "id": "dcee5115",
   "metadata": {
    "scrolled": true
   },
   "outputs": [
    {
     "data": {
      "text/plain": [
       "'@vidya.?'"
      ]
     },
     "execution_count": 26,
     "metadata": {},
     "output_type": "execute_result"
    }
   ],
   "source": [
    "x='@vidya.?'\n",
    "x"
   ]
  },
  {
   "cell_type": "code",
   "execution_count": 27,
   "id": "ee457f22",
   "metadata": {},
   "outputs": [
    {
     "data": {
      "text/plain": [
       "'!\"#$%&\\'()*+,-./:;<=>?@[\\\\]^_`{|}~'"
      ]
     },
     "execution_count": 27,
     "metadata": {},
     "output_type": "execute_result"
    }
   ],
   "source": [
    "import string\n",
    "string.punctuation"
   ]
  },
  {
   "cell_type": "code",
   "execution_count": 28,
   "id": "e3c3ad5a",
   "metadata": {},
   "outputs": [
    {
     "data": {
      "text/plain": [
       "'vidya'"
      ]
     },
     "execution_count": 28,
     "metadata": {},
     "output_type": "execute_result"
    }
   ],
   "source": [
    "import re \n",
    "res=re.sub(r'[^\\w]','',x)\n",
    "res"
   ]
  },
  {
   "cell_type": "markdown",
   "id": "3294d736",
   "metadata": {},
   "source": [
    "# Q4"
   ]
  },
  {
   "cell_type": "code",
   "execution_count": 29,
   "id": "26eb9964",
   "metadata": {},
   "outputs": [
    {
     "data": {
      "text/plain": [
       "150"
      ]
     },
     "execution_count": 29,
     "metadata": {},
     "output_type": "execute_result"
    }
   ],
   "source": [
    "integer=10\n",
    "string=\"15\"\n",
    "x=int(string)\n",
    "x\n",
    "y=integer * x\n",
    "y"
   ]
  },
  {
   "cell_type": "markdown",
   "id": "e2ef7330",
   "metadata": {},
   "source": [
    "# Q3"
   ]
  },
  {
   "cell_type": "code",
   "execution_count": 30,
   "id": "67ffa7b4",
   "metadata": {},
   "outputs": [
    {
     "name": "stdout",
     "output_type": "stream",
     "text": [
      "enter first number x:3\n",
      "enter second number y:5\n",
      "x= 5\n",
      "y= 3\n"
     ]
    }
   ],
   "source": [
    "x=int(input(\"enter first number x:\"))\n",
    "y=int(input(\"enter second number y:\"))\n",
    "x,y=y,x\n",
    "print(\"x=\",x)\n",
    "print(\"y=\",y)"
   ]
  },
  {
   "cell_type": "markdown",
   "id": "cc791f11",
   "metadata": {},
   "source": [
    "# Q6"
   ]
  },
  {
   "cell_type": "code",
   "execution_count": 31,
   "id": "b6928027",
   "metadata": {},
   "outputs": [
    {
     "data": {
      "text/plain": [
       "[1, 2, 3, 4, 5, 6, 7, 8, 9, 10]"
      ]
     },
     "execution_count": 31,
     "metadata": {},
     "output_type": "execute_result"
    }
   ],
   "source": [
    "x=list(range(1,11))\n",
    "x"
   ]
  },
  {
   "cell_type": "code",
   "execution_count": 32,
   "id": "0b91963f",
   "metadata": {},
   "outputs": [
    {
     "name": "stdout",
     "output_type": "stream",
     "text": [
      "enter table number4\n",
      "4\n",
      "8\n",
      "12\n",
      "16\n",
      "20\n",
      "24\n",
      "28\n",
      "32\n",
      "36\n",
      "40\n"
     ]
    }
   ],
   "source": [
    "x=list(range(1,11))\n",
    "a=int(input('enter table number'))\n",
    "for i in x:\n",
    "    b=i*a\n",
    "    print(b)"
   ]
  },
  {
   "cell_type": "markdown",
   "id": "9176f878",
   "metadata": {},
   "source": [
    "# Q7"
   ]
  },
  {
   "cell_type": "code",
   "execution_count": 33,
   "id": "6c892eb3",
   "metadata": {},
   "outputs": [
    {
     "data": {
      "text/plain": [
       "[26, 'Jon', 34, 'Roger', 13, 'Jessica', 24, 'Monica', 65, 'Ashton']"
      ]
     },
     "execution_count": 33,
     "metadata": {},
     "output_type": "execute_result"
    }
   ],
   "source": [
    "students=[26,'Jon',34,'Roger',13,'Jessica',24,'Monica',65,'Ashton']\n",
    "students"
   ]
  },
  {
   "cell_type": "code",
   "execution_count": 34,
   "id": "118f46b2",
   "metadata": {},
   "outputs": [
    {
     "name": "stdout",
     "output_type": "stream",
     "text": [
      "{'Jon': 26, 'Roger': 34, 'Jessica': 13, 'Monica': 24, 'Ashton': 65}\n"
     ]
    }
   ],
   "source": [
    "def convert(l):\n",
    "    dict={}\n",
    "    for i in range(0,len(l),2):\n",
    "        dict[l[i+1]]=l[i]\n",
    "    return dict\n",
    "students=[26,'Jon',34,'Roger',13,'Jessica',24,'Monica',65,'Ashton']\n",
    "print(convert(students))    "
   ]
  },
  {
   "cell_type": "markdown",
   "id": "91af6bbc",
   "metadata": {},
   "source": [
    "# Q10"
   ]
  },
  {
   "cell_type": "code",
   "execution_count": 35,
   "id": "aaccccec",
   "metadata": {},
   "outputs": [
    {
     "name": "stdout",
     "output_type": "stream",
     "text": [
      "enter first string ffr\n",
      "enter second string rre\n",
      "not anagram\n"
     ]
    }
   ],
   "source": [
    "x=input(\"enter first string \")\n",
    "y=input(\"enter second string \")\n",
    "if(sorted(x)==sorted(y)):\n",
    "    print(\"the strings are anagram\")\n",
    "else:\n",
    "    print(\"not anagram\")"
   ]
  },
  {
   "cell_type": "markdown",
   "id": "1f2e253b",
   "metadata": {},
   "source": [
    "# Q11"
   ]
  },
  {
   "cell_type": "code",
   "execution_count": 36,
   "id": "c8385d13",
   "metadata": {},
   "outputs": [
    {
     "data": {
      "text/plain": [
       "('abc', 'aaa')"
      ]
     },
     "execution_count": 36,
     "metadata": {},
     "output_type": "execute_result"
    }
   ],
   "source": [
    "\n",
    "\n",
    "f=('abc','aaa')\n",
    "f"
   ]
  },
  {
   "cell_type": "code",
   "execution_count": 37,
   "id": "8e2bf864",
   "metadata": {},
   "outputs": [
    {
     "data": {
      "text/plain": [
       "['abc', 'aaa']"
      ]
     },
     "execution_count": 37,
     "metadata": {},
     "output_type": "execute_result"
    }
   ],
   "source": [
    "a=list(f)\n",
    "a"
   ]
  },
  {
   "cell_type": "markdown",
   "id": "84dfa07e",
   "metadata": {},
   "source": [
    "# Q12"
   ]
  },
  {
   "cell_type": "code",
   "execution_count": 38,
   "id": "f2f46661",
   "metadata": {},
   "outputs": [
    {
     "name": "stdout",
     "output_type": "stream",
     "text": [
      "['lemon', 'Grapes', 'kiwi']\n"
     ]
    }
   ],
   "source": [
    "f=(('lemon','sour'),('dragonfruit','sweet'),('Grapes','sour'),('kiwi','sour'),('apple','sweet'))\n",
    "output=[]\n",
    "for i in f:\n",
    "    f,taste=i\n",
    "    str='sour'\n",
    "    if taste.lower()==str.lower():\n",
    "        output.append(f)\n",
    "        \n",
    "print(output)\n",
    "    "
   ]
  },
  {
   "cell_type": "code",
   "execution_count": 40,
   "id": "6a58384f",
   "metadata": {},
   "outputs": [
    {
     "ename": "AttributeError",
     "evalue": "'list' object has no attribute 'split'",
     "output_type": "error",
     "traceback": [
      "\u001b[1;31m---------------------------------------------------------------------------\u001b[0m",
      "\u001b[1;31mAttributeError\u001b[0m                            Traceback (most recent call last)",
      "Input \u001b[1;32mIn [40]\u001b[0m, in \u001b[0;36m<cell line: 25>\u001b[1;34m()\u001b[0m\n\u001b[0;32m     20\u001b[0m         sentiment\u001b[38;5;241m=\u001b[39m\u001b[38;5;124m'\u001b[39m\u001b[38;5;124mnegative\u001b[39m\u001b[38;5;124m'\u001b[39m\n\u001b[0;32m     21\u001b[0m     \u001b[38;5;28;01mreturn\u001b[39;00m sentiment\n\u001b[1;32m---> 25\u001b[0m \u001b[43manalyzer\u001b[49m\u001b[43m(\u001b[49m\u001b[43mtext\u001b[49m\u001b[43m,\u001b[49m\u001b[43mpositive\u001b[49m\u001b[43m,\u001b[49m\u001b[43mnegative\u001b[49m\u001b[43m)\u001b[49m\n",
      "Input \u001b[1;32mIn [40]\u001b[0m, in \u001b[0;36manalyzer\u001b[1;34m(text, positive, negative)\u001b[0m\n\u001b[0;32m     12\u001b[0m \u001b[38;5;28;01mdef\u001b[39;00m \u001b[38;5;21manalyzer\u001b[39m(text,positive,negative):\n\u001b[0;32m     13\u001b[0m     score\u001b[38;5;241m=\u001b[39m\u001b[38;5;241m0\u001b[39m\n\u001b[1;32m---> 14\u001b[0m     token\u001b[38;5;241m=\u001b[39m\u001b[43mtext\u001b[49m\u001b[38;5;241;43m.\u001b[39;49m\u001b[43msplit\u001b[49m(\u001b[38;5;124m\"\u001b[39m\u001b[38;5;124m \u001b[39m\u001b[38;5;124m\"\u001b[39m)\n\u001b[0;32m     15\u001b[0m     score\u001b[38;5;241m+\u001b[39m\u001b[38;5;241m=\u001b[39m\u001b[38;5;28msum\u001b[39m(\u001b[38;5;241m1\u001b[39m \u001b[38;5;28;01mfor\u001b[39;00m word \u001b[38;5;129;01min\u001b[39;00m token \u001b[38;5;28;01mif\u001b[39;00m word \u001b[38;5;129;01min\u001b[39;00m positive)\n\u001b[0;32m     16\u001b[0m     score\u001b[38;5;241m+\u001b[39m\u001b[38;5;241m=\u001b[39m\u001b[38;5;28msum\u001b[39m(\u001b[38;5;241m-\u001b[39m\u001b[38;5;241m1\u001b[39m \u001b[38;5;28;01mfor\u001b[39;00m word \u001b[38;5;129;01min\u001b[39;00m token \u001b[38;5;28;01mif\u001b[39;00m word \u001b[38;5;129;01min\u001b[39;00m negative)\n",
      "\u001b[1;31mAttributeError\u001b[0m: 'list' object has no attribute 'split'"
     ]
    }
   ],
   "source": [
    "text = ['This government policies are good',\n",
    "          'bad implementation', \n",
    "          'The way he played showed that he is one of the best players in the world',\n",
    "          'Her acting in the play was awesome', 'The wine tastes awful', \n",
    "          'Its nice to hear this little kid laugh']\n",
    "positive=['This government policies are good',\n",
    "          'bad implementation', \n",
    "          'The way he played showed that he is one of the best players in the world',\n",
    "          'Her acting in the play was awesome', 'The wine tastes awful', \n",
    "          'Its nice to hear this little kid laugh']\n",
    "negative=[\"ee\",\"ssad\",\"fdd\"]\n",
    "def analyzer(text,positive,negative):\n",
    "    score=0\n",
    "    token=text.split(\" \")\n",
    "    score+=sum(1 for word in token if word in positive)\n",
    "    score+=sum(-1 for word in token if word in negative)\n",
    "    if score>0:\n",
    "        sentiment='positive'\n",
    "    elif score<0:\n",
    "        sentiment='negative'\n",
    "    return sentiment\n",
    "\n",
    "\n",
    "\n",
    "analyzer(text,positive,negative)"
   ]
  },
  {
   "cell_type": "code",
   "execution_count": 41,
   "id": "7bddc251",
   "metadata": {},
   "outputs": [
    {
     "name": "stdout",
     "output_type": "stream",
     "text": [
      "This government policies are good negative\n",
      "This government policies are good negative\n",
      "This government policies are good negative\n",
      "This government policies are good negative\n",
      "This government policies are good :positive\n",
      "bad implementation negative\n",
      "bad implementation negative\n",
      "The way he played showed that he is one of the best players in the world negative\n",
      "The way he played showed that he is one of the best players in the world negative\n",
      "The way he played showed that he is one of the best players in the world negative\n",
      "The way he played showed that he is one of the best players in the world negative\n",
      "The way he played showed that he is one of the best players in the world negative\n",
      "The way he played showed that he is one of the best players in the world negative\n",
      "The way he played showed that he is one of the best players in the world negative\n",
      "The way he played showed that he is one of the best players in the world negative\n",
      "The way he played showed that he is one of the best players in the world negative\n",
      "The way he played showed that he is one of the best players in the world negative\n",
      "The way he played showed that he is one of the best players in the world negative\n",
      "The way he played showed that he is one of the best players in the world negative\n",
      "The way he played showed that he is one of the best players in the world negative\n",
      "The way he played showed that he is one of the best players in the world negative\n",
      "The way he played showed that he is one of the best players in the world negative\n",
      "The way he played showed that he is one of the best players in the world negative\n",
      "Her acting in the play was awesome negative\n",
      "Her acting in the play was awesome negative\n",
      "Her acting in the play was awesome negative\n",
      "Her acting in the play was awesome negative\n",
      "Her acting in the play was awesome negative\n",
      "Her acting in the play was awesome negative\n",
      "Her acting in the play was awesome negative\n",
      "The wine tastes awful negative\n",
      "The wine tastes awful negative\n",
      "The wine tastes awful negative\n",
      "The wine tastes awful negative\n",
      "Its nice to hear this little kid laugh negative\n",
      "Its nice to hear this little kid laugh negative\n",
      "Its nice to hear this little kid laugh negative\n",
      "Its nice to hear this little kid laugh negative\n",
      "Its nice to hear this little kid laugh negative\n",
      "Its nice to hear this little kid laugh negative\n",
      "Its nice to hear this little kid laugh negative\n",
      "Its nice to hear this little kid laugh negative\n",
      "This government policies are good negative\n",
      "This government policies are good negative\n",
      "This government policies are good negative\n",
      "This government policies are good negative\n",
      "This government policies are good negative\n",
      "bad implementation negative\n",
      "bad implementation negative\n",
      "The way he played showed that he is one of the best players in the world negative\n",
      "The way he played showed that he is one of the best players in the world negative\n",
      "The way he played showed that he is one of the best players in the world negative\n",
      "The way he played showed that he is one of the best players in the world negative\n",
      "The way he played showed that he is one of the best players in the world negative\n",
      "The way he played showed that he is one of the best players in the world negative\n",
      "The way he played showed that he is one of the best players in the world negative\n",
      "The way he played showed that he is one of the best players in the world negative\n",
      "The way he played showed that he is one of the best players in the world negative\n",
      "The way he played showed that he is one of the best players in the world negative\n",
      "The way he played showed that he is one of the best players in the world negative\n",
      "The way he played showed that he is one of the best players in the world negative\n",
      "The way he played showed that he is one of the best players in the world negative\n",
      "The way he played showed that he is one of the best players in the world negative\n",
      "The way he played showed that he is one of the best players in the world negative\n",
      "The way he played showed that he is one of the best players in the world negative\n",
      "Her acting in the play was awesome negative\n",
      "Her acting in the play was awesome negative\n",
      "Her acting in the play was awesome negative\n",
      "Her acting in the play was awesome negative\n",
      "Her acting in the play was awesome negative\n",
      "Her acting in the play was awesome negative\n",
      "Her acting in the play was awesome :positive\n",
      "The wine tastes awful negative\n",
      "The wine tastes awful negative\n",
      "The wine tastes awful negative\n",
      "The wine tastes awful negative\n",
      "Its nice to hear this little kid laugh negative\n",
      "Its nice to hear this little kid laugh negative\n",
      "Its nice to hear this little kid laugh negative\n",
      "Its nice to hear this little kid laugh negative\n",
      "Its nice to hear this little kid laugh negative\n",
      "Its nice to hear this little kid laugh negative\n",
      "Its nice to hear this little kid laugh negative\n",
      "Its nice to hear this little kid laugh negative\n",
      "This government policies are good negative\n",
      "This government policies are good negative\n",
      "This government policies are good negative\n",
      "This government policies are good negative\n",
      "This government policies are good negative\n",
      "bad implementation negative\n",
      "bad implementation negative\n",
      "The way he played showed that he is one of the best players in the world negative\n",
      "The way he played showed that he is one of the best players in the world negative\n",
      "The way he played showed that he is one of the best players in the world negative\n",
      "The way he played showed that he is one of the best players in the world negative\n",
      "The way he played showed that he is one of the best players in the world negative\n",
      "The way he played showed that he is one of the best players in the world negative\n",
      "The way he played showed that he is one of the best players in the world negative\n",
      "The way he played showed that he is one of the best players in the world negative\n",
      "The way he played showed that he is one of the best players in the world negative\n",
      "The way he played showed that he is one of the best players in the world negative\n",
      "The way he played showed that he is one of the best players in the world negative\n",
      "The way he played showed that he is one of the best players in the world negative\n",
      "The way he played showed that he is one of the best players in the world negative\n",
      "The way he played showed that he is one of the best players in the world negative\n",
      "The way he played showed that he is one of the best players in the world negative\n",
      "The way he played showed that he is one of the best players in the world negative\n",
      "Her acting in the play was awesome negative\n",
      "Her acting in the play was awesome negative\n",
      "Her acting in the play was awesome negative\n",
      "Her acting in the play was awesome negative\n",
      "Her acting in the play was awesome negative\n",
      "Her acting in the play was awesome negative\n",
      "Her acting in the play was awesome negative\n",
      "The wine tastes awful negative\n",
      "The wine tastes awful negative\n",
      "The wine tastes awful negative\n",
      "The wine tastes awful negative\n",
      "Its nice to hear this little kid laugh negative\n",
      "Its nice to hear this little kid laugh :positive\n",
      "Its nice to hear this little kid laugh negative\n",
      "Its nice to hear this little kid laugh negative\n",
      "Its nice to hear this little kid laugh negative\n",
      "Its nice to hear this little kid laugh negative\n",
      "Its nice to hear this little kid laugh negative\n",
      "Its nice to hear this little kid laugh negative\n"
     ]
    }
   ],
   "source": [
    "tweets = ['This government policies are good',\n",
    "          'bad implementation', \n",
    "          'The way he played showed that he is one of the best players in the world',\n",
    "          'Her acting in the play was awesome', 'The wine tastes awful', \n",
    "          'Its nice to hear this little kid laugh']\n",
    "positive=['good','awesome','nice']\n",
    "negative=['bad','worst','awful']\n",
    "for i in positive:\n",
    "    for j in tweets:\n",
    "        k=j.split()\n",
    "        for l in k:\n",
    "            if i==l:\n",
    "                print(j,\":positive\")\n",
    "            else:\n",
    "                print(j,\"negative\")"
   ]
  },
  {
   "cell_type": "code",
   "execution_count": 42,
   "id": "f8a7fe38",
   "metadata": {},
   "outputs": [
    {
     "data": {
      "text/plain": [
       "array([[ 32,  42, 250],\n",
       "       [ 71, 105, 508],\n",
       "       [110, 168, 766]])"
      ]
     },
     "execution_count": 42,
     "metadata": {},
     "output_type": "execute_result"
    }
   ],
   "source": [
    "import numpy as np\n",
    "x=np.array([[1,2,3],[4,5,6],[7,8,9]])\n",
    "y=np.array([[1,8,1],[5,5,6],[7,8,79]])\n",
    "multiplication=x.dot(y)\n",
    "multiplication"
   ]
  },
  {
   "cell_type": "code",
   "execution_count": 44,
   "id": "8afe311f",
   "metadata": {},
   "outputs": [
    {
     "name": "stdout",
     "output_type": "stream",
     "text": [
      " New dictionary :  {'emp01': 'Raj', 'emp02': 'Sheela', 'emp03': 'Joseph'}\n"
     ]
    }
   ],
   "source": [
    "Employee = {'emp 01' : 'Raj', 'emp 02' : 'Sheela', 'emp 0 3 ': 'Joseph'};\n",
    "Employee = {x.replace(' ', ''): v for x, v in Employee.items()} \n",
    "  \n",
    "# printing new dictionary \n",
    "print (\" New dictionary : \",Employee) "
   ]
  },
  {
   "cell_type": "code",
   "execution_count": 45,
   "id": "780d7b88",
   "metadata": {},
   "outputs": [
    {
     "name": "stdout",
     "output_type": "stream",
     "text": [
      "A \n",
      "B C \n",
      "C D E \n",
      "D E F G \n",
      "E F G H I \n"
     ]
    }
   ],
   "source": [
    "for i in range(65,70):\n",
    "    k=i\n",
    "    for j in range(65,i+1):\n",
    "        print(chr(k),end=\" \")\n",
    "       \n",
    "        k=k+1\n",
    "    print()"
   ]
  },
  {
   "cell_type": "code",
   "execution_count": 46,
   "id": "35fb37ed",
   "metadata": {},
   "outputs": [
    {
     "name": "stdout",
     "output_type": "stream",
     "text": [
      "\n",
      "* \n",
      "* * \n",
      "* * * \n",
      "* * * * \n"
     ]
    }
   ],
   "source": [
    "count=0\n",
    "for i in range(count,5):\n",
    "\n",
    "    for j in range(count,i):\n",
    "        print(\"*\",end=\" \")\n",
    "       \n",
    "    print()\n",
    "    \n",
    "for i in range(5,count):\n",
    "\n",
    "    for j in range(count,-1,i):\n",
    "        print(\"*\",end=\" \")\n",
    "       \n",
    "    print()"
   ]
  },
  {
   "cell_type": "code",
   "execution_count": 47,
   "id": "23860c5b",
   "metadata": {},
   "outputs": [
    {
     "ename": "IndentationError",
     "evalue": "expected an indented block (3649300422.py, line 4)",
     "output_type": "error",
     "traceback": [
      "\u001b[1;36m  Input \u001b[1;32mIn [47]\u001b[1;36m\u001b[0m\n\u001b[1;33m    for i in range(0, n):\u001b[0m\n\u001b[1;37m    ^\u001b[0m\n\u001b[1;31mIndentationError\u001b[0m\u001b[1;31m:\u001b[0m expected an indented block\n"
     ]
    }
   ],
   "source": [
    "n=5\n",
    "def contalpha():\n",
    "    \n",
    "for i in range(0, n):\n",
    "    for j in range(0, i+1):\n",
    "        ch = chr(num)\n",
    " \n",
    "        print(ch, end=\" \")\n",
    " \n",
    "        num = num + 1\n",
    " \n",
    "  \n",
    "    print(\"\\r\")\n",
    " \n",
    "\n",
    "\n",
    "contalpha()"
   ]
  },
  {
   "cell_type": "code",
   "execution_count": null,
   "id": "1cc1fc1a",
   "metadata": {},
   "outputs": [],
   "source": [
    "arr=np.array([[1,2,3],[4,5,6],[7,8,9]])\n",
    "arr"
   ]
  },
  {
   "cell_type": "code",
   "execution_count": null,
   "id": "f325ac6f",
   "metadata": {},
   "outputs": [],
   "source": [
    "arr[::-1,:]"
   ]
  }
 ],
 "metadata": {
  "kernelspec": {
   "display_name": "Python 3 (ipykernel)",
   "language": "python",
   "name": "python3"
  },
  "language_info": {
   "codemirror_mode": {
    "name": "ipython",
    "version": 3
   },
   "file_extension": ".py",
   "mimetype": "text/x-python",
   "name": "python",
   "nbconvert_exporter": "python",
   "pygments_lexer": "ipython3",
   "version": "3.9.12"
  }
 },
 "nbformat": 4,
 "nbformat_minor": 5
}
