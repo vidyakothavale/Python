{
 "cells": [
  {
   "cell_type": "code",
   "execution_count": 1,
   "id": "b295b8aa",
   "metadata": {},
   "outputs": [
    {
     "name": "stdout",
     "output_type": "stream",
     "text": [
      "invalid\n"
     ]
    }
   ],
   "source": [
    "a=300\n",
    "b=20\n",
    "if b>a:\n",
    "    print(\"valid\")\n",
    "else:\n",
    "    print(\"invalid\")"
   ]
  },
  {
   "cell_type": "markdown",
   "id": "cd89cbc2",
   "metadata": {},
   "source": [
    "# indentation"
   ]
  },
  {
   "cell_type": "code",
   "execution_count": 2,
   "id": "fa67b880",
   "metadata": {},
   "outputs": [
    {
     "name": "stdout",
     "output_type": "stream",
     "text": [
      "b is greater than a\n"
     ]
    }
   ],
   "source": [
    "a=33\n",
    "b=200\n",
    "if b>a:\n",
    "    print(\"b is greater than a\") #1 tab=4 time space"
   ]
  },
  {
   "cell_type": "code",
   "execution_count": 3,
   "id": "8d5c2acf",
   "metadata": {},
   "outputs": [],
   "source": [
    "a=45\n",
    "b=300\n",
    "if b<a:\n",
    "    print(\"b is greater than a\")"
   ]
  },
  {
   "cell_type": "markdown",
   "id": "e0ddf049",
   "metadata": {},
   "source": [
    "# Elif"
   ]
  },
  {
   "cell_type": "code",
   "execution_count": 2,
   "id": "998d8940",
   "metadata": {},
   "outputs": [
    {
     "name": "stdout",
     "output_type": "stream",
     "text": [
      "equal\n"
     ]
    }
   ],
   "source": [
    "a=44\n",
    "b=44\n",
    "if b>a:\n",
    "    print(\"greater \")\n",
    "elif a==b:\n",
    "    print(\"equal\")"
   ]
  },
  {
   "cell_type": "code",
   "execution_count": 5,
   "id": "bf8c4112",
   "metadata": {},
   "outputs": [
    {
     "name": "stdout",
     "output_type": "stream",
     "text": [
      "invalid\n"
     ]
    }
   ],
   "source": [
    "a=555\n",
    "b=55\n",
    "if b>a:\n",
    "    print(\"valid\")\n",
    "elif a>b:\n",
    "    print(\"invalid\")"
   ]
  },
  {
   "cell_type": "markdown",
   "id": "74e1c1ad",
   "metadata": {},
   "source": [
    "# else"
   ]
  },
  {
   "cell_type": "code",
   "execution_count": 6,
   "id": "d27f1d6d",
   "metadata": {},
   "outputs": [
    {
     "name": "stdout",
     "output_type": "stream",
     "text": [
      "None\n"
     ]
    }
   ],
   "source": [
    "a=200\n",
    "b=20\n",
    "if b>a:\n",
    "    print(\"Greater\")\n",
    "elif a==b:\n",
    "    print(\"Equal\")\n",
    "else:\n",
    "    print(\"None\")"
   ]
  },
  {
   "cell_type": "code",
   "execution_count": 7,
   "id": "e3a20f4e",
   "metadata": {},
   "outputs": [
    {
     "name": "stdout",
     "output_type": "stream",
     "text": [
      "A Grade\n"
     ]
    }
   ],
   "source": [
    "grade=91\n",
    "\n",
    "if grade>=90:\n",
    "    print(\"A Grade\")\n",
    "elif grade>=80:\n",
    "    print(\"B Grade\")\n",
    "elif grade>=70:\n",
    "    print(\"C Grade\")    \n",
    "elif grade>=65:\n",
    "    print(\"D Grade\")    \n",
    "else:\n",
    "    print(\"failing grade\")"
   ]
  },
  {
   "cell_type": "code",
   "execution_count": 8,
   "id": "babe9fec",
   "metadata": {},
   "outputs": [
    {
     "name": "stdout",
     "output_type": "stream",
     "text": [
      "b is not greater than a\n"
     ]
    }
   ],
   "source": [
    "a=2000\n",
    "b=333\n",
    "if b>a:\n",
    "    print(\"b is greater then a\")\n",
    "else:\n",
    "    print(\"b is not greater than a\")"
   ]
  },
  {
   "cell_type": "code",
   "execution_count": null,
   "id": "146458a3",
   "metadata": {},
   "outputs": [],
   "source": []
  },
  {
   "cell_type": "markdown",
   "id": "ebe76fbb",
   "metadata": {},
   "source": [
    "# And"
   ]
  },
  {
   "cell_type": "code",
   "execution_count": 9,
   "id": "16a50572",
   "metadata": {},
   "outputs": [
    {
     "name": "stdout",
     "output_type": "stream",
     "text": [
      "invalid\n"
     ]
    }
   ],
   "source": [
    "a=200\n",
    "b=300\n",
    "c=500\n",
    "if a>b and c>a :\n",
    "    print(\"both condition are true\")\n",
    "else:\n",
    "    print(\"invalid\")"
   ]
  },
  {
   "cell_type": "markdown",
   "id": "e809bbdd",
   "metadata": {},
   "source": [
    "# or"
   ]
  },
  {
   "cell_type": "code",
   "execution_count": 11,
   "id": "95592ed7",
   "metadata": {},
   "outputs": [
    {
     "name": "stdout",
     "output_type": "stream",
     "text": [
      "invalid\n"
     ]
    }
   ],
   "source": [
    "a=200\n",
    "b=330\n",
    "c=500\n",
    "if a>b or a>c :\n",
    "    print(\"at least one condition are true\")\n",
    "else:\n",
    "    print(\"invalid\")"
   ]
  },
  {
   "cell_type": "markdown",
   "id": "64bc5a3e",
   "metadata": {},
   "source": [
    "# Nested if"
   ]
  },
  {
   "cell_type": "code",
   "execution_count": 12,
   "id": "85e2def0",
   "metadata": {},
   "outputs": [
    {
     "name": "stdout",
     "output_type": "stream",
     "text": [
      "zero\n"
     ]
    }
   ],
   "source": [
    "num=6\n",
    "if num>=5:\n",
    "    if num <9:\n",
    "        print(\"zero\")\n",
    "    else:\n",
    "        print(\"positive number\")\n",
    "else:\n",
    "    print(\"Negative number\")"
   ]
  },
  {
   "cell_type": "code",
   "execution_count": 13,
   "id": "fcd8baba",
   "metadata": {},
   "outputs": [
    {
     "name": "stdout",
     "output_type": "stream",
     "text": [
      "passing grade of:\n",
      "B\n"
     ]
    }
   ],
   "source": [
    "grade=80\n",
    "if grade >=65:\n",
    "    print(\"passing grade of:\")\n",
    "    if grade >=90:\n",
    "        print(\"A\")\n",
    "    elif grade >=80:\n",
    "        print(\"B\") \n",
    "    elif grade >=70:\n",
    "          print(\"C\")\n",
    "    elif grade >=65:\n",
    "          print(\"D\")   \n",
    "else:\n",
    "    print(\"failing grade\")\n",
    "    "
   ]
  },
  {
   "cell_type": "code",
   "execution_count": 17,
   "id": "2ea32e3b",
   "metadata": {},
   "outputs": [
    {
     "name": "stdout",
     "output_type": "stream",
     "text": [
      "Expression value is less than 200\n",
      "which is 150\n"
     ]
    }
   ],
   "source": [
    "var=150\n",
    "if var<200:\n",
    "    print(\"Expression value is less than 200\")\n",
    "    if var==150:\n",
    "        print(\"which is 150\")\n",
    "    elif var==100:\n",
    "        print(\"which is 100\")\n",
    "    elif var==50:\n",
    "        print(\"which is 50\")  \n",
    "    elif var<50:\n",
    "        print(\"which is less than 50\")   \n",
    "else:\n",
    "    print(\"invalid\")"
   ]
  },
  {
   "cell_type": "code",
   "execution_count": null,
   "id": "0e0b997d",
   "metadata": {},
   "outputs": [],
   "source": []
  }
 ],
 "metadata": {
  "kernelspec": {
   "display_name": "Python 3 (ipykernel)",
   "language": "python",
   "name": "python3"
  },
  "language_info": {
   "codemirror_mode": {
    "name": "ipython",
    "version": 3
   },
   "file_extension": ".py",
   "mimetype": "text/x-python",
   "name": "python",
   "nbconvert_exporter": "python",
   "pygments_lexer": "ipython3",
   "version": "3.9.12"
  }
 },
 "nbformat": 4,
 "nbformat_minor": 5
}
