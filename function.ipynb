{
 "cells": [
  {
   "cell_type": "markdown",
   "id": "e3fb1056",
   "metadata": {},
   "source": [
    "# creating a function"
   ]
  },
  {
   "cell_type": "code",
   "execution_count": 1,
   "id": "ae8885ea",
   "metadata": {},
   "outputs": [],
   "source": [
    "def abc():\n",
    "    print(\"Good afternoon\")"
   ]
  },
  {
   "cell_type": "code",
   "execution_count": 2,
   "id": "8315514b",
   "metadata": {},
   "outputs": [
    {
     "name": "stdout",
     "output_type": "stream",
     "text": [
      "Good afternoon\n"
     ]
    }
   ],
   "source": [
    "abc()"
   ]
  },
  {
   "cell_type": "code",
   "execution_count": 3,
   "id": "b06fc179",
   "metadata": {},
   "outputs": [],
   "source": [
    "def my_function():\n",
    "    print(\"Hello from a function\")\n",
    "    "
   ]
  },
  {
   "cell_type": "code",
   "execution_count": 4,
   "id": "653cab64",
   "metadata": {},
   "outputs": [
    {
     "name": "stdout",
     "output_type": "stream",
     "text": [
      "Hello from a function\n"
     ]
    }
   ],
   "source": [
    "my_function()"
   ]
  },
  {
   "cell_type": "code",
   "execution_count": 11,
   "id": "4f56178f",
   "metadata": {},
   "outputs": [],
   "source": [
    "def miss():\n",
    "    y='curd'\n",
    "   \n",
    "    if xy==\"curd\":\n",
    "        print(\"here is your food\")\n",
    "    else:\n",
    "        print(\"invalid\")"
   ]
  },
  {
   "cell_type": "code",
   "execution_count": 12,
   "id": "d9c4972c",
   "metadata": {},
   "outputs": [
    {
     "name": "stdout",
     "output_type": "stream",
     "text": [
      "invalid\n"
     ]
    }
   ],
   "source": [
    "miss()"
   ]
  },
  {
   "cell_type": "code",
   "execution_count": 5,
   "id": "8e6ac60a",
   "metadata": {},
   "outputs": [
    {
     "name": "stdout",
     "output_type": "stream",
     "text": [
      "food is missed\n"
     ]
    }
   ],
   "source": [
    "def miss():\n",
    "    print(\"food is missed\")\n",
    "x=\"Rice\" \n",
    "if x==\"curd\":\n",
    "    print(\"here is your food\")\n",
    "else:\n",
    "    miss()"
   ]
  },
  {
   "cell_type": "code",
   "execution_count": 14,
   "id": "73ad9033",
   "metadata": {},
   "outputs": [],
   "source": [
    "def abc(first_name):\n",
    "    print(first_name+\"All good\"+\",good evening\")"
   ]
  },
  {
   "cell_type": "code",
   "execution_count": 16,
   "id": "d39dcc51",
   "metadata": {},
   "outputs": [
    {
     "name": "stdout",
     "output_type": "stream",
     "text": [
      "vidya All good,good evening\n"
     ]
    }
   ],
   "source": [
    "abc(\"vidya \")"
   ]
  },
  {
   "cell_type": "code",
   "execution_count": 22,
   "id": "eac3e646",
   "metadata": {},
   "outputs": [],
   "source": [
    "def my_function(a,b):\n",
    "    total=a+b\n",
    "    sub=total/2\n",
    "    return (total,sub)\n"
   ]
  },
  {
   "cell_type": "code",
   "execution_count": 23,
   "id": "00de3ffd",
   "metadata": {},
   "outputs": [
    {
     "data": {
      "text/plain": [
       "(10, 5.0)"
      ]
     },
     "execution_count": 23,
     "metadata": {},
     "output_type": "execute_result"
    }
   ],
   "source": [
    "my_function(7,3)"
   ]
  },
  {
   "cell_type": "code",
   "execution_count": 24,
   "id": "f19df798",
   "metadata": {},
   "outputs": [],
   "source": [
    "def subtraction(a,b,c):\n",
    "    x=a-b-c\n",
    "    y=a+b+c\n",
    "    z=x+y\n",
    "    u=x-y\n",
    "    return z"
   ]
  },
  {
   "cell_type": "code",
   "execution_count": 25,
   "id": "b55818ad",
   "metadata": {},
   "outputs": [
    {
     "data": {
      "text/plain": [
       "20"
      ]
     },
     "execution_count": 25,
     "metadata": {},
     "output_type": "execute_result"
    }
   ],
   "source": [
    "subtraction(10,10,10)"
   ]
  },
  {
   "cell_type": "code",
   "execution_count": 26,
   "id": "158d89d4",
   "metadata": {},
   "outputs": [],
   "source": [
    "def num(var1,var2,var3,var4):\n",
    "    output=var1*var2*var3*var4\n",
    "    return output"
   ]
  },
  {
   "cell_type": "code",
   "execution_count": 27,
   "id": "b1451400",
   "metadata": {},
   "outputs": [
    {
     "data": {
      "text/plain": [
       "24"
      ]
     },
     "execution_count": 27,
     "metadata": {},
     "output_type": "execute_result"
    }
   ],
   "source": [
    "num(2,3,2,2)"
   ]
  },
  {
   "cell_type": "markdown",
   "id": "bf0a39e4",
   "metadata": {},
   "source": [
    "# keyword argument"
   ]
  },
  {
   "cell_type": "code",
   "execution_count": 7,
   "id": "60e84269",
   "metadata": {},
   "outputs": [],
   "source": [
    "def my_function(child3,child2,child1):\n",
    "    print(\"the youngest child is \"+child2)\n",
    "    \n",
    "    \n",
    "    "
   ]
  },
  {
   "cell_type": "code",
   "execution_count": 8,
   "id": "a7321e5e",
   "metadata": {},
   "outputs": [
    {
     "name": "stdout",
     "output_type": "stream",
     "text": [
      "the youngest child is anil\n"
     ]
    }
   ],
   "source": [
    "my_function('hitesh','anil','nikita')"
   ]
  },
  {
   "cell_type": "code",
   "execution_count": 31,
   "id": "07c677b3",
   "metadata": {},
   "outputs": [],
   "source": [
    "def my_function(country='norway'):\n",
    "    print(\"i am from \"+country)"
   ]
  },
  {
   "cell_type": "code",
   "execution_count": 32,
   "id": "cd896ba2",
   "metadata": {},
   "outputs": [
    {
     "name": "stdout",
     "output_type": "stream",
     "text": [
      "i am from norway\n"
     ]
    }
   ],
   "source": [
    "my_function()"
   ]
  },
  {
   "cell_type": "code",
   "execution_count": 33,
   "id": "23e67385",
   "metadata": {},
   "outputs": [
    {
     "name": "stdout",
     "output_type": "stream",
     "text": [
      "i am from india\n"
     ]
    }
   ],
   "source": [
    "my_function('india')"
   ]
  },
  {
   "cell_type": "code",
   "execution_count": 34,
   "id": "cabb6483",
   "metadata": {},
   "outputs": [],
   "source": [
    "def salary_hra(x,hra=4):\n",
    "    output=x*(hra/100)\n",
    "    return output"
   ]
  },
  {
   "cell_type": "code",
   "execution_count": 35,
   "id": "b4e20b48",
   "metadata": {},
   "outputs": [
    {
     "data": {
      "text/plain": [
       "400.0"
      ]
     },
     "execution_count": 35,
     "metadata": {},
     "output_type": "execute_result"
    }
   ],
   "source": [
    "salary_hra(10000)"
   ]
  },
  {
   "cell_type": "code",
   "execution_count": 36,
   "id": "752996a2",
   "metadata": {},
   "outputs": [
    {
     "data": {
      "text/plain": [
       "600.0"
      ]
     },
     "execution_count": 36,
     "metadata": {},
     "output_type": "execute_result"
    }
   ],
   "source": [
    "salary_hra(10000,6)"
   ]
  },
  {
   "cell_type": "code",
   "execution_count": 37,
   "id": "015184aa",
   "metadata": {},
   "outputs": [],
   "source": [
    "def my_function(food):\n",
    "    for x in food:\n",
    "        print(x)"
   ]
  },
  {
   "cell_type": "code",
   "execution_count": 38,
   "id": "df011537",
   "metadata": {},
   "outputs": [
    {
     "data": {
      "text/plain": [
       "['apple', 'banana', 'cherry']"
      ]
     },
     "execution_count": 38,
     "metadata": {},
     "output_type": "execute_result"
    }
   ],
   "source": [
    "fruits=[\"apple\",\"banana\",\"cherry\"]\n",
    "fruits"
   ]
  },
  {
   "cell_type": "code",
   "execution_count": 40,
   "id": "f8bdd3c5",
   "metadata": {},
   "outputs": [
    {
     "name": "stdout",
     "output_type": "stream",
     "text": [
      "apple\n",
      "banana\n",
      "cherry\n"
     ]
    }
   ],
   "source": [
    " my_function(fruits)"
   ]
  },
  {
   "cell_type": "code",
   "execution_count": null,
   "id": "75c4cf96",
   "metadata": {},
   "outputs": [],
   "source": [
    " my_function(food)"
   ]
  },
  {
   "cell_type": "code",
   "execution_count": 45,
   "id": "4f17e9b4",
   "metadata": {},
   "outputs": [
    {
     "name": "stdout",
     "output_type": "stream",
     "text": [
      "-2\n",
      "4\n"
     ]
    }
   ],
   "source": [
    "def absolute_value(num):\n",
    "    if num>=3:\n",
    "        return num\n",
    "    else:\n",
    "        return -num\n",
    "print(absolute_value(2))  \n",
    "print(absolute_value(4))"
   ]
  },
  {
   "cell_type": "code",
   "execution_count": 48,
   "id": "abf6ae87",
   "metadata": {},
   "outputs": [],
   "source": [
    "def my_function(*kids):\n",
    "    print(\"the youngest child is \"+kids[0])"
   ]
  },
  {
   "cell_type": "code",
   "execution_count": 49,
   "id": "c41b4ea3",
   "metadata": {},
   "outputs": [
    {
     "name": "stdout",
     "output_type": "stream",
     "text": [
      "the youngest child is hitesh\n"
     ]
    }
   ],
   "source": [
    "my_function(\"hitesh\",\"pranay\",\"irfan\",\"pratik\",\"ubaid\")"
   ]
  },
  {
   "cell_type": "code",
   "execution_count": null,
   "id": "dd3db537",
   "metadata": {},
   "outputs": [],
   "source": []
  }
 ],
 "metadata": {
  "kernelspec": {
   "display_name": "Python 3 (ipykernel)",
   "language": "python",
   "name": "python3"
  },
  "language_info": {
   "codemirror_mode": {
    "name": "ipython",
    "version": 3
   },
   "file_extension": ".py",
   "mimetype": "text/x-python",
   "name": "python",
   "nbconvert_exporter": "python",
   "pygments_lexer": "ipython3",
   "version": "3.9.12"
  }
 },
 "nbformat": 4,
 "nbformat_minor": 5
}
