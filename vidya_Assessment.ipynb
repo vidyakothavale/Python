{
 "cells": [
  {
   "cell_type": "markdown",
   "id": "55175092",
   "metadata": {},
   "source": [
    "### Q1"
   ]
  },
  {
   "cell_type": "code",
   "execution_count": 8,
   "id": "78d8a15e",
   "metadata": {},
   "outputs": [
    {
     "name": "stdout",
     "output_type": "stream",
     "text": [
      "2 3 5 7 11 13 17 19 23 29 31 37 41 43 47 53 59 61 67 71 73 79 83 89 97 "
     ]
    }
   ],
   "source": [
    "for i in range(2,101):\n",
    "    if i>1:\n",
    "        for j in range(2,i):\n",
    "            if i%j==0:\n",
    "                break\n",
    "        else:   \n",
    "            print(i,end=\" \")"
   ]
  },
  {
   "cell_type": "markdown",
   "id": "41f9c9f0",
   "metadata": {},
   "source": [
    "### Q2"
   ]
  },
  {
   "cell_type": "code",
   "execution_count": 1,
   "id": "73c2be2c",
   "metadata": {},
   "outputs": [
    {
     "data": {
      "text/plain": [
       "'aydiv'"
      ]
     },
     "execution_count": 1,
     "metadata": {},
     "output_type": "execute_result"
    }
   ],
   "source": [
    "def reverse(str1):\n",
    "    str1=str1[::-1]\n",
    "    return str1\n",
    "str1=\"vidya\"\n",
    "reverse(str1)"
   ]
  },
  {
   "cell_type": "markdown",
   "id": "dc587187",
   "metadata": {},
   "source": [
    "### Q3"
   ]
  },
  {
   "cell_type": "code",
   "execution_count": 3,
   "id": "24ed155d",
   "metadata": {},
   "outputs": [
    {
     "name": "stdout",
     "output_type": "stream",
     "text": [
      "Monday Sunday Saturday "
     ]
    }
   ],
   "source": [
    "Days = ['Monday', 'tuesday','friday', 'Sunday', 'Saturday']\n",
    "for i in Days:\n",
    "    if i==i.title():\n",
    "        print(i,end=\" \")"
   ]
  },
  {
   "cell_type": "markdown",
   "id": "52795bdf",
   "metadata": {},
   "source": [
    "### Q4"
   ]
  },
  {
   "cell_type": "code",
   "execution_count": 28,
   "id": "2ce23ea0",
   "metadata": {},
   "outputs": [
    {
     "name": "stdout",
     "output_type": "stream",
     "text": [
      "['1997', '2011', '1993', '2020']\n"
     ]
    }
   ],
   "source": [
    "Batch = ['15-06-1997','15-06-2011','15-06-1993','15-06-2020']\n",
    "a=[x.split(\"-\")[2] for x in Batch]\n",
    "print(a)\n",
    "    \n"
   ]
  },
  {
   "cell_type": "markdown",
   "id": "2f70e4aa",
   "metadata": {},
   "source": [
    "### Q5"
   ]
  },
  {
   "cell_type": "code",
   "execution_count": 26,
   "id": "df6ad9e4",
   "metadata": {},
   "outputs": [
    {
     "name": "stdout",
     "output_type": "stream",
     "text": [
      "{1: 'Data Science', 2: 'Machine Learning', 3: 'SQL', 4: 'BigData'}\n"
     ]
    }
   ],
   "source": [
    "Module = {'Data Science':1,'Machine Learning':2, 'SQL':3, 'BigData':4}\n",
    "a={}\n",
    "for i in Module.items():\n",
    "    a[i[1]]=i[0]\n",
    "print(a)\n",
    "          "
   ]
  },
  {
   "cell_type": "markdown",
   "id": "6a762e30",
   "metadata": {},
   "source": [
    "### Q6"
   ]
  },
  {
   "cell_type": "code",
   "execution_count": null,
   "id": "431ad01c",
   "metadata": {},
   "outputs": [],
   "source": [
    "\n",
    "Input list: [5,2,1,4,6]\n",
    "    "
   ]
  },
  {
   "cell_type": "markdown",
   "id": "c6f1c55c",
   "metadata": {},
   "source": [
    "### Q7"
   ]
  },
  {
   "cell_type": "code",
   "execution_count": 97,
   "id": "f5434335",
   "metadata": {},
   "outputs": [
    {
     "name": "stdout",
     "output_type": "stream",
     "text": [
      "ab c d\n",
      "2\n"
     ]
    }
   ],
   "source": [
    "a=\"vidya\"\n",
    "b=input()\n",
    "count=0\n",
    "whitespace=0\n",
    "for w in b:\n",
    "    if w==\" \":\n",
    "        whitespace=whitespace+1\n",
    "for i in a:\n",
    "    for j in b:\n",
    "        if i==j:\n",
    "            count=count+1\n",
    "        \n",
    "    c=len(b)-count\n",
    "print(c-whitespace)\n"
   ]
  },
  {
   "cell_type": "markdown",
   "id": "4e0754d6",
   "metadata": {},
   "source": [
    "### Q8"
   ]
  },
  {
   "cell_type": "code",
   "execution_count": 10,
   "id": "09f21afe",
   "metadata": {},
   "outputs": [
    {
     "name": "stdout",
     "output_type": "stream",
     "text": [
      "num is between 1000 and 10000\n"
     ]
    }
   ],
   "source": [
    "def checkrange(num):\n",
    "    if (num>1000)& (num<10000):\n",
    "        print(\"num is between 1000 and 10000\")\n",
    "    else:\n",
    "        print(\"num is not between 1000 and 10000\")\n",
    "checkrange(1100)"
   ]
  },
  {
   "cell_type": "markdown",
   "id": "801aa776",
   "metadata": {},
   "source": [
    "### Q9"
   ]
  },
  {
   "cell_type": "code",
   "execution_count": 53,
   "id": "47cf01b5",
   "metadata": {},
   "outputs": [
    {
     "name": "stdout",
     "output_type": "stream",
     "text": [
      "       1\n",
      "      1 1\n",
      "     1 2 1\n",
      "    1 3 3 1\n",
      "   1 4 6 4 1\n",
      "  1 5 10 10 5 1\n"
     ]
    }
   ],
   "source": [
    "n = 6\n",
    "for i in range(1, n+1):\n",
    "    for j in range(0, n-i+1):\n",
    "        print(' ', end='')\n",
    "    C = 1\n",
    "    for j in range(1, i+1):\n",
    "        print(' ', C, sep='', end='')\n",
    "        C = C * (i - j) // j\n",
    "    print()"
   ]
  },
  {
   "cell_type": "markdown",
   "id": "7c4fa655",
   "metadata": {},
   "source": [
    "### Q10"
   ]
  },
  {
   "cell_type": "code",
   "execution_count": 12,
   "id": "21fc6d0c",
   "metadata": {},
   "outputs": [
    {
     "name": "stdout",
     "output_type": "stream",
     "text": [
      "sum of list ele is: 104\n"
     ]
    }
   ],
   "source": [
    "test_score = [10, 32, 23, 14, 25]\n",
    "sum=0\n",
    "for i in test_score:\n",
    "    sum=sum+i\n",
    "print(\"sum of list ele is:\",sum)\n",
    "    "
   ]
  },
  {
   "cell_type": "markdown",
   "id": "c876c569",
   "metadata": {},
   "source": [
    "### Q11"
   ]
  },
  {
   "cell_type": "code",
   "execution_count": 14,
   "id": "274e0600",
   "metadata": {},
   "outputs": [
    {
     "data": {
      "text/plain": [
       "array([[210, 402, 383],\n",
       "       [140, 375, 106],\n",
       "       [140, 125, 217],\n",
       "       [292, 240, 295]])"
      ]
     },
     "execution_count": 14,
     "metadata": {},
     "output_type": "execute_result"
    }
   ],
   "source": [
    "import numpy as np\n",
    "Score = np.array([[210, 402, 383],\n",
    "[140, 375, 106],\n",
    "[140, 125, 217],\n",
    "[292, 240, 295]])\n",
    "Score"
   ]
  },
  {
   "cell_type": "code",
   "execution_count": 15,
   "id": "504faaa4",
   "metadata": {},
   "outputs": [
    {
     "data": {
      "text/plain": [
       "array([210, 106, 125, 240])"
      ]
     },
     "execution_count": 15,
     "metadata": {},
     "output_type": "execute_result"
    }
   ],
   "source": [
    "Score.min(axis=1)"
   ]
  },
  {
   "cell_type": "markdown",
   "id": "4f8866be",
   "metadata": {},
   "source": [
    "### Q12"
   ]
  },
  {
   "cell_type": "code",
   "execution_count": 16,
   "id": "ee22c4da",
   "metadata": {},
   "outputs": [
    {
     "data": {
      "text/plain": [
       "array([ 0, 21, 32, 13, 44, 45, 26, 28, 38, 34, 65, 48, 76])"
      ]
     },
     "execution_count": 16,
     "metadata": {},
     "output_type": "execute_result"
    }
   ],
   "source": [
    "num_array = np.array([0, 21, 32, 13, 44, 45,\n",
    "26, 28, 38, 34, 65, 48, 76])\n",
    "num_array"
   ]
  },
  {
   "cell_type": "code",
   "execution_count": 19,
   "id": "4bbeb0e0",
   "metadata": {},
   "outputs": [
    {
     "name": "stdout",
     "output_type": "stream",
     "text": [
      "-1 21 -1 13 -1 45 -1 -1 -1 -1 65 -1 -1 "
     ]
    }
   ],
   "source": [
    "for i in num_array:\n",
    "    if i%2==0:\n",
    "        i=-1\n",
    "    print(i,end=\" \")"
   ]
  },
  {
   "cell_type": "code",
   "execution_count": null,
   "id": "f3c4cb1e",
   "metadata": {},
   "outputs": [],
   "source": []
  }
 ],
 "metadata": {
  "kernelspec": {
   "display_name": "Python 3 (ipykernel)",
   "language": "python",
   "name": "python3"
  },
  "language_info": {
   "codemirror_mode": {
    "name": "ipython",
    "version": 3
   },
   "file_extension": ".py",
   "mimetype": "text/x-python",
   "name": "python",
   "nbconvert_exporter": "python",
   "pygments_lexer": "ipython3",
   "version": "3.9.12"
  }
 },
 "nbformat": 4,
 "nbformat_minor": 5
}
