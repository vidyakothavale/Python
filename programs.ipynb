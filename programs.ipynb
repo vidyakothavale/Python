{
 "cells": [
  {
   "cell_type": "code",
   "execution_count": 3,
   "id": "c1b8211c",
   "metadata": {},
   "outputs": [
    {
     "name": "stdout",
     "output_type": "stream",
     "text": [
      "* \n",
      "* * \n",
      "* * * \n",
      "* * * * \n",
      "* * * * * \n"
     ]
    }
   ],
   "source": [
    "\n",
    "for i in range(1,5+1):\n",
    "    for j in range(1,i+1):\n",
    "        print(\"*\",end=\" \")\n",
    "        \n",
    "    print()        "
   ]
  },
  {
   "cell_type": "code",
   "execution_count": 4,
   "id": "ce756170",
   "metadata": {},
   "outputs": [
    {
     "name": "stdout",
     "output_type": "stream",
     "text": [
      "* * * * * \n",
      "* * * * \n",
      "* * * \n",
      "* * \n",
      "* \n"
     ]
    }
   ],
   "source": [
    "for i in range(6,1,-1):\n",
    "    for j in range(1,i):\n",
    "        print(\"*\",end=\" \")\n",
    "        \n",
    "    print()        "
   ]
  },
  {
   "cell_type": "code",
   "execution_count": 5,
   "id": "8b6e9b88",
   "metadata": {},
   "outputs": [
    {
     "name": "stdout",
     "output_type": "stream",
     "text": [
      "* \n",
      "* * \n",
      "* * * \n",
      "* * * * \n",
      "* * * * * \n",
      "* * * * \n",
      "* * * \n",
      "* * \n",
      "* \n"
     ]
    }
   ],
   "source": [
    "for i in range(1,6):\n",
    "    for j in range(1,i+1):\n",
    "        print(\"*\",end=\" \")\n",
    "        \n",
    "    print() \n",
    "    \n",
    "for i in range(6-1,1,-1):\n",
    "    for j in range(1,i):\n",
    "        print(\"*\",end=\" \")\n",
    "        \n",
    "    print() "
   ]
  },
  {
   "cell_type": "code",
   "execution_count": 4,
   "id": "380424d2",
   "metadata": {},
   "outputs": [
    {
     "name": "stdout",
     "output_type": "stream",
     "text": [
      "1 \n",
      "2 2 \n",
      "3 3 3 \n",
      "4 4 4 4 \n",
      "5 5 5 5 5 \n"
     ]
    }
   ],
   "source": [
    "for i in range(1,5+1):\n",
    "    for j in range(1,i+1):\n",
    "        print(i,end=\" \")\n",
    "        \n",
    "    print()  "
   ]
  },
  {
   "cell_type": "code",
   "execution_count": 5,
   "id": "fe721f0e",
   "metadata": {},
   "outputs": [
    {
     "name": "stdout",
     "output_type": "stream",
     "text": [
      "5 5 5 5 5 \n",
      "4 4 4 4 \n",
      "3 3 3 \n",
      "2 2 \n",
      "1 \n"
     ]
    }
   ],
   "source": [
    "for i in range(5,0,-1):\n",
    "    for j in range(1-1,i):\n",
    "        print(i,end=\" \")\n",
    "        \n",
    "    print() "
   ]
  },
  {
   "cell_type": "code",
   "execution_count": 6,
   "id": "13049950",
   "metadata": {},
   "outputs": [
    {
     "name": "stdout",
     "output_type": "stream",
     "text": [
      "1 \n",
      "1 2 \n",
      "1 2 3 \n",
      "1 2 3 4 \n",
      "1 2 3 4 5 \n"
     ]
    }
   ],
   "source": [
    "for i in range(1,5+1):\n",
    "    for j in range(1,i+1):\n",
    "        print(j,end=\" \")\n",
    "        \n",
    "    print()  "
   ]
  },
  {
   "cell_type": "code",
   "execution_count": 7,
   "id": "23d66746",
   "metadata": {},
   "outputs": [
    {
     "name": "stdout",
     "output_type": "stream",
     "text": [
      "1 2 3 4 \n",
      "1 2 3 \n",
      "1 2 \n",
      "1 \n"
     ]
    }
   ],
   "source": [
    "    \n",
    "for i in range(5-1,0,-1):\n",
    "    for j in range(1,i+1):\n",
    "        print(j,end=\" \")\n",
    "        \n",
    "    print()"
   ]
  },
  {
   "cell_type": "code",
   "execution_count": 8,
   "id": "7d45096c",
   "metadata": {},
   "outputs": [
    {
     "name": "stdout",
     "output_type": "stream",
     "text": [
      "1 \n",
      "1 2 \n",
      "1 2 3 \n",
      "1 2 3 4 \n",
      "1 2 3 4 5 \n",
      "1 2 3 4 \n",
      "1 2 3 \n",
      "1 2 \n",
      "1 \n"
     ]
    }
   ],
   "source": [
    "for i in range(1,6):\n",
    "    for j in range(1,i+1):\n",
    "        print(j,end=\" \")\n",
    "        \n",
    "    print() \n",
    "    \n",
    "for i in range(5-1,0,-1):\n",
    "    for j in range(1,i+1):\n",
    "        print(j,end=\" \")\n",
    "        \n",
    "    print()"
   ]
  },
  {
   "cell_type": "code",
   "execution_count": 9,
   "id": "fa61a7ac",
   "metadata": {},
   "outputs": [
    {
     "name": "stdout",
     "output_type": "stream",
     "text": [
      "5 5 5 5 5 \n",
      "4 4 4 4 \n",
      "3 3 3 \n",
      "2 2 \n",
      "1 \n"
     ]
    }
   ],
   "source": [
    "for i in range(5,0,-1):\n",
    "    for j in range(1-1,i):\n",
    "        print(i,end=\" \")\n",
    "        \n",
    "    print() "
   ]
  },
  {
   "cell_type": "code",
   "execution_count": 10,
   "id": "8908e09b",
   "metadata": {},
   "outputs": [
    {
     "name": "stdout",
     "output_type": "stream",
     "text": [
      "1 \n",
      "2 3 \n",
      "4 5 6 \n",
      "7 8 9 10 \n",
      "11 12 13 14 15 \n"
     ]
    }
   ],
   "source": [
    "count=0\n",
    "for i in range(1,6):\n",
    "    for j in range(i):\n",
    "        count=count+1\n",
    "        print(count,end=\" \")\n",
    "    print()"
   ]
  },
  {
   "cell_type": "code",
   "execution_count": 11,
   "id": "e29e29f6",
   "metadata": {},
   "outputs": [
    {
     "name": "stdout",
     "output_type": "stream",
     "text": [
      "\n",
      "1 \n",
      "2 3 \n",
      "4 5 6 \n",
      "7 8 9 10 \n",
      "11 12 13 14 \n",
      "15 16 17 \n",
      "18 19 \n",
      "20 \n"
     ]
    }
   ],
   "source": [
    "count=0\n",
    "for i in range(1,6):\n",
    "    for j in range(1,i):\n",
    "        count=count+1\n",
    "        print(count,end=\" \")\n",
    "    print()\n",
    "    \n",
    "\n",
    "for i in range(6-1,1,-1):\n",
    "    for j in range(i-1):\n",
    "        count=count+1\n",
    "        print(count,end=\" \")\n",
    "    print()"
   ]
  },
  {
   "cell_type": "code",
   "execution_count": 12,
   "id": "cf2378e8",
   "metadata": {},
   "outputs": [
    {
     "name": "stdout",
     "output_type": "stream",
     "text": [
      "0\n",
      "1\n",
      "2\n",
      "3\n",
      "4\n",
      "5\n",
      "6\n",
      "7\n",
      "8\n",
      "9\n",
      "10\n",
      "11\n",
      "12\n",
      "13\n"
     ]
    }
   ],
   "source": [
    "for i in range(0,14):\n",
    "    \n",
    "            sum=i+j\n",
    "            print(sum)"
   ]
  },
  {
   "cell_type": "code",
   "execution_count": 13,
   "id": "4f0c7f15",
   "metadata": {},
   "outputs": [
    {
     "name": "stdout",
     "output_type": "stream",
     "text": [
      "number is prime\n"
     ]
    }
   ],
   "source": [
    "num=3\n",
    "count=0\n",
    "for i in range (1,num+1):\n",
    "    if num%i==0:\n",
    "        count=count+1\n",
    "if count==2:\n",
    "    print(\"number is prime\")\n",
    "else:\n",
    "    print(\"number is not prime\")"
   ]
  },
  {
   "cell_type": "code",
   "execution_count": 14,
   "id": "400994cc",
   "metadata": {},
   "outputs": [
    {
     "name": "stdout",
     "output_type": "stream",
     "text": [
      "2 3 5 7 "
     ]
    }
   ],
   "source": [
    "for i in range(2,11):\n",
    "    if i>1:\n",
    "        for j in range(2,i):\n",
    "            if i%j==0:\n",
    "                break  #prime number\n",
    "        else:\n",
    "            print(i,end=\" \")"
   ]
  },
  {
   "cell_type": "code",
   "execution_count": 15,
   "id": "57778b04",
   "metadata": {},
   "outputs": [
    {
     "name": "stdout",
     "output_type": "stream",
     "text": [
      "120\n"
     ]
    }
   ],
   "source": [
    "#factorial\n",
    "num=5\n",
    "fact=1\n",
    "\n",
    "if num==0:\n",
    "    print(\"factorial is 1\")\n",
    "elif num<0:\n",
    "    print(\"factorial doesnt exist for negative number\")\n",
    "else:\n",
    "    for i in range(1,num+1):\n",
    "            fact= fact*i\n",
    "    print(fact)        \n",
    "    "
   ]
  },
  {
   "cell_type": "code",
   "execution_count": 1,
   "id": "9590d5bf",
   "metadata": {},
   "outputs": [
    {
     "name": "stdout",
     "output_type": "stream",
     "text": [
      "factorial of 5 is 120\n"
     ]
    }
   ],
   "source": [
    "# using recursion\n",
    "def factorial(num):\n",
    "    if (num==0 or num==1):\n",
    "        return 1\n",
    "    else:\n",
    "        return num*factorial(num-1)\n",
    "num=5\n",
    "print(\"factorial of\",num,\"is\",factorial(num))\n",
    "        "
   ]
  },
  {
   "cell_type": "code",
   "execution_count": 2,
   "id": "6a86bff9",
   "metadata": {},
   "outputs": [
    {
     "name": "stdout",
     "output_type": "stream",
     "text": [
      "fact of 5 is 120\n"
     ]
    }
   ],
   "source": [
    "#using ternary \n",
    "def factorial(num):\n",
    "    return 1 if(num==1 or num==0) else num*factorial(num-1)\n",
    "num=5\n",
    "print(\"fact of\",num,\"is\",factorial(num))\n"
   ]
  },
  {
   "cell_type": "code",
   "execution_count": 2,
   "id": "01cf4c06",
   "metadata": {},
   "outputs": [
    {
     "name": "stdout",
     "output_type": "stream",
     "text": [
      "sum of array is 19\n"
     ]
    }
   ],
   "source": [
    "#find sum of array\n",
    "\n",
    "arr=[1,4,2,3,8,1]\n",
    "sum=0\n",
    "for i in arr:\n",
    "    sum=sum+i\n",
    "print(\"sum of array is\",sum)"
   ]
  },
  {
   "cell_type": "code",
   "execution_count": 29,
   "id": "86d15b47",
   "metadata": {},
   "outputs": [
    {
     "name": "stdout",
     "output_type": "stream",
     "text": [
      "maximum number is: 9\n"
     ]
    }
   ],
   "source": [
    "#lagest number in array\n",
    "\n",
    "arr=[4,3,7,1,9]\n",
    "max=arr[0]\n",
    "for i in arr:\n",
    "    if i>max:\n",
    "        max=i\n",
    "print(\"maximum number is:\",max)\n"
   ]
  },
  {
   "cell_type": "code",
   "execution_count": 30,
   "id": "d27cd867",
   "metadata": {},
   "outputs": [
    {
     "name": "stdout",
     "output_type": "stream",
     "text": [
      "4\n"
     ]
    }
   ],
   "source": [
    "#count of list element\n",
    "l=[1,6,4,3]\n",
    "count=0\n",
    "for i in l:\n",
    "    count=count+1\n",
    "print(count)"
   ]
  },
  {
   "cell_type": "code",
   "execution_count": 32,
   "id": "e2a549e8",
   "metadata": {},
   "outputs": [
    {
     "data": {
      "text/plain": [
       "True"
      ]
     },
     "execution_count": 32,
     "metadata": {},
     "output_type": "execute_result"
    }
   ],
   "source": [
    "#check element is exist or not\n",
    "l=[5,7,9,3]\n",
    "num=5\n",
    "num in l\n"
   ]
  },
  {
   "cell_type": "code",
   "execution_count": 35,
   "id": "fc973675",
   "metadata": {},
   "outputs": [
    {
     "name": "stdout",
     "output_type": "stream",
     "text": [
      "30\n"
     ]
    }
   ],
   "source": [
    "a=[2,5,3]\n",
    "mul=1\n",
    "for i in a:\n",
    "    mul=mul*i\n",
    "print(mul)"
   ]
  },
  {
   "cell_type": "code",
   "execution_count": null,
   "id": "58de0aa0",
   "metadata": {},
   "outputs": [],
   "source": []
  },
  {
   "cell_type": "code",
   "execution_count": 4,
   "id": "7ac77ef0",
   "metadata": {},
   "outputs": [
    {
     "name": "stdout",
     "output_type": "stream",
     "text": [
      "palindrome\n"
     ]
    }
   ],
   "source": [
    "#palindrome or not\n",
    "\n",
    "v=\"madam\"\n",
    "\n",
    "s=v[::-1]\n",
    "if v==s:\n",
    "    print(\"palindrome\")\n",
    "    \n",
    "else:\n",
    "    print(\"not palindrome\")"
   ]
  },
  {
   "cell_type": "code",
   "execution_count": 9,
   "id": "3099b4d8",
   "metadata": {},
   "outputs": [
    {
     "name": "stdout",
     "output_type": "stream",
     "text": [
      "viya\n"
     ]
    }
   ],
   "source": [
    "a=\"vidya\"\n",
    "b=\"\"\n",
    "for i in range(5):\n",
    "    if i==2:\n",
    "        continue\n",
    "    else:\n",
    "        b=b+a[i]\n",
    "print(b)      "
   ]
  },
  {
   "cell_type": "code",
   "execution_count": 14,
   "id": "bfba3682",
   "metadata": {},
   "outputs": [
    {
     "name": "stdout",
     "output_type": "stream",
     "text": [
      "count of letter with space: 11\n",
      "count of letter without space is 10\n"
     ]
    }
   ],
   "source": [
    "a=\"vidya komal\"\n",
    "count=0\n",
    "count1=0\n",
    "for i in a:\n",
    "    count1=count1+1\n",
    "print(\"count of letter with space:\",count1)\n",
    "for i in a:\n",
    "    if i!=\" \":\n",
    "        count=count+1\n",
    "print(\"count of letter without space is\",count)"
   ]
  },
  {
   "cell_type": "code",
   "execution_count": 24,
   "id": "308c453c",
   "metadata": {},
   "outputs": [
    {
     "name": "stdout",
     "output_type": "stream",
     "text": [
      "am\n",
      "kothavalew\n"
     ]
    }
   ],
   "source": [
    "a=\"i am vidya kothavalew\"\n",
    "s=a.split(\" \")\n",
    "for i in s:\n",
    "    if len(i)%2==0:\n",
    "        print(i)"
   ]
  },
  {
   "cell_type": "code",
   "execution_count": 27,
   "id": "121612fb",
   "metadata": {},
   "outputs": [
    {
     "ename": "TypeError",
     "evalue": "string indices must be integers",
     "output_type": "error",
     "traceback": [
      "\u001b[1;31m---------------------------------------------------------------------------\u001b[0m",
      "\u001b[1;31mTypeError\u001b[0m                                 Traceback (most recent call last)",
      "Input \u001b[1;32mIn [27]\u001b[0m, in \u001b[0;36m<cell line: 3>\u001b[1;34m()\u001b[0m\n\u001b[0;32m      3\u001b[0m \u001b[38;5;28;01mfor\u001b[39;00m i \u001b[38;5;129;01min\u001b[39;00m a:\n\u001b[0;32m      4\u001b[0m     \u001b[38;5;28;01mif\u001b[39;00m i\u001b[38;5;241m!=\u001b[39mdup:\n\u001b[1;32m----> 5\u001b[0m         dup\u001b[38;5;241m=\u001b[39mdup\u001b[38;5;241m+\u001b[39m\u001b[43ma\u001b[49m\u001b[43m[\u001b[49m\u001b[43mi\u001b[49m\u001b[43m]\u001b[49m\n\u001b[0;32m      6\u001b[0m \u001b[38;5;28mprint\u001b[39m(dup)\n",
      "\u001b[1;31mTypeError\u001b[0m: string indices must be integers"
     ]
    }
   ],
   "source": [
    "a=\"suvarna\"\n",
    "dup=[]\n",
    "for i in a:\n",
    "    if i1=dup:\n",
    "        dup=dup+a[i]\n",
    "print(dup)"
   ]
  },
  {
   "cell_type": "code",
   "execution_count": 29,
   "id": "aeeb6cbb",
   "metadata": {},
   "outputs": [
    {
     "name": "stdout",
     "output_type": "stream",
     "text": [
      "Without Order: fgoekrs\n",
      "With Order: g\n",
      "With Order: ge\n",
      "With Order: ge\n",
      "With Order: gek\n",
      "With Order: geks\n",
      "With Order: geksf\n",
      "With Order: geksfo\n",
      "With Order: geksfor\n",
      "With Order: geksfor\n",
      "With Order: geksfor\n",
      "With Order: geksfor\n",
      "With Order: geksfor\n",
      "With Order: geksfor\n"
     ]
    }
   ],
   "source": [
    "def removeDuplicate(str):\n",
    "    s=set(str)\n",
    "    s=\"\".join(s)\n",
    "    print(\"Without Order:\",s)\n",
    "    t=\"\"\n",
    "    for i in str:\n",
    "        if(i in t):\n",
    "            pass\n",
    "        else:\n",
    "            t=t+i\n",
    "        print(\"With Order:\",t)\n",
    "     \n",
    "str=\"geeksforgeeks\"\n",
    "removeDuplicate(str)"
   ]
  },
  {
   "cell_type": "code",
   "execution_count": 34,
   "id": "5586c482",
   "metadata": {},
   "outputs": [
    {
     "data": {
      "text/plain": [
       "'geeksforgeek'"
      ]
     },
     "execution_count": 34,
     "metadata": {},
     "output_type": "execute_result"
    }
   ],
   "source": [
    "str=\"geeksforgeek\"\n",
    "\n",
    "s=\"\".join(str)\n",
    "s"
   ]
  },
  {
   "cell_type": "code",
   "execution_count": null,
   "id": "bc8025d1",
   "metadata": {},
   "outputs": [],
   "source": []
  }
 ],
 "metadata": {
  "kernelspec": {
   "display_name": "Python 3 (ipykernel)",
   "language": "python",
   "name": "python3"
  },
  "language_info": {
   "codemirror_mode": {
    "name": "ipython",
    "version": 3
   },
   "file_extension": ".py",
   "mimetype": "text/x-python",
   "name": "python",
   "nbconvert_exporter": "python",
   "pygments_lexer": "ipython3",
   "version": "3.9.12"
  }
 },
 "nbformat": 4,
 "nbformat_minor": 5
}
