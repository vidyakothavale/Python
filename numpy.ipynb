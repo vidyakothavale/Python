{
 "cells": [
  {
   "cell_type": "markdown",
   "id": "a11c198a",
   "metadata": {},
   "source": [
    "# one dimensinal"
   ]
  },
  {
   "cell_type": "markdown",
   "id": "476e7034",
   "metadata": {},
   "source": [
    "import numpy as np\n",
    "a=np.array([10,20,30])\n",
    "print(type(a))\n",
    "print(a.shape)"
   ]
  },
  {
   "cell_type": "code",
   "execution_count": 1,
   "id": "82116e09",
   "metadata": {},
   "outputs": [
    {
     "name": "stdout",
     "output_type": "stream",
     "text": [
      "<class 'numpy.ndarray'>\n",
      "(3,)\n"
     ]
    }
   ],
   "source": [
    "import numpy as np\n",
    "a=np.array([10,20,30]) \n",
    "print(type(a)) \n",
    "print(a.shape)"
   ]
  },
  {
   "cell_type": "code",
   "execution_count": 2,
   "id": "733a546b",
   "metadata": {},
   "outputs": [
    {
     "name": "stdout",
     "output_type": "stream",
     "text": [
      "[10 20 30]\n"
     ]
    }
   ],
   "source": [
    "print(a)"
   ]
  },
  {
   "cell_type": "code",
   "execution_count": 3,
   "id": "918455a9",
   "metadata": {},
   "outputs": [
    {
     "name": "stdout",
     "output_type": "stream",
     "text": [
      "10\n"
     ]
    }
   ],
   "source": [
    "print(a[0])"
   ]
  },
  {
   "cell_type": "code",
   "execution_count": 4,
   "id": "c347a5ad",
   "metadata": {},
   "outputs": [],
   "source": [
    "a[0]=50"
   ]
  },
  {
   "cell_type": "code",
   "execution_count": 13,
   "id": "3da36520",
   "metadata": {},
   "outputs": [
    {
     "data": {
      "text/plain": [
       "array([50, 20, 30])"
      ]
     },
     "execution_count": 13,
     "metadata": {},
     "output_type": "execute_result"
    }
   ],
   "source": [
    "a"
   ]
  },
  {
   "cell_type": "markdown",
   "id": "56de2fd6",
   "metadata": {},
   "source": [
    "# two dimensional"
   ]
  },
  {
   "cell_type": "code",
   "execution_count": 6,
   "id": "fe92a1d3",
   "metadata": {},
   "outputs": [
    {
     "data": {
      "text/plain": [
       "array([[1, 2, 3],\n",
       "       [4, 5, 6]])"
      ]
     },
     "execution_count": 6,
     "metadata": {},
     "output_type": "execute_result"
    }
   ],
   "source": [
    "b=np.array([[1,2,3],[4,5,6]])\n",
    "b"
   ]
  },
  {
   "cell_type": "code",
   "execution_count": 7,
   "id": "fd5b4689",
   "metadata": {},
   "outputs": [
    {
     "name": "stdout",
     "output_type": "stream",
     "text": [
      "(2, 3)\n"
     ]
    }
   ],
   "source": [
    "print(b.shape)"
   ]
  },
  {
   "cell_type": "code",
   "execution_count": 8,
   "id": "d870ad40",
   "metadata": {},
   "outputs": [
    {
     "name": "stdout",
     "output_type": "stream",
     "text": [
      "6 2\n"
     ]
    }
   ],
   "source": [
    "print(b[1,2],b[0,1])\n"
   ]
  },
  {
   "cell_type": "code",
   "execution_count": 9,
   "id": "57983b29",
   "metadata": {},
   "outputs": [
    {
     "data": {
      "text/plain": [
       "3"
      ]
     },
     "execution_count": 9,
     "metadata": {},
     "output_type": "execute_result"
    }
   ],
   "source": [
    "b[0,2]"
   ]
  },
  {
   "cell_type": "markdown",
   "id": "d1a5ac66",
   "metadata": {},
   "source": [
    "# three diamensional"
   ]
  },
  {
   "cell_type": "code",
   "execution_count": 10,
   "id": "a0e30aa4",
   "metadata": {},
   "outputs": [
    {
     "data": {
      "text/plain": [
       "array([[1, 2, 3],\n",
       "       [4, 5, 6],\n",
       "       [7, 8, 9]])"
      ]
     },
     "execution_count": 10,
     "metadata": {},
     "output_type": "execute_result"
    }
   ],
   "source": [
    "c=np.array([[1,2,3],[4,5,6],[7,8,9]])\n",
    "c"
   ]
  },
  {
   "cell_type": "code",
   "execution_count": 11,
   "id": "2eccf4bf",
   "metadata": {},
   "outputs": [
    {
     "name": "stdout",
     "output_type": "stream",
     "text": [
      "(3, 3)\n"
     ]
    }
   ],
   "source": [
    "print(c.shape)"
   ]
  },
  {
   "cell_type": "code",
   "execution_count": 12,
   "id": "788cbfaf",
   "metadata": {},
   "outputs": [
    {
     "data": {
      "text/plain": [
       "6"
      ]
     },
     "execution_count": 12,
     "metadata": {},
     "output_type": "execute_result"
    }
   ],
   "source": [
    "c[1,2]"
   ]
  },
  {
   "cell_type": "markdown",
   "id": "e85de439",
   "metadata": {},
   "source": [
    "# numpy also provides many functions to create arrays"
   ]
  },
  {
   "cell_type": "code",
   "execution_count": 14,
   "id": "aa1b5334",
   "metadata": {},
   "outputs": [
    {
     "name": "stdout",
     "output_type": "stream",
     "text": [
      "[[0. 0.]\n",
      " [0. 0.]]\n"
     ]
    },
    {
     "data": {
      "text/plain": [
       "(2, 2)"
      ]
     },
     "execution_count": 14,
     "metadata": {},
     "output_type": "execute_result"
    }
   ],
   "source": [
    "a=np.zeros((2,2))\n",
    "print(a)\n",
    "a.shape"
   ]
  },
  {
   "cell_type": "code",
   "execution_count": 62,
   "id": "eb678e34",
   "metadata": {},
   "outputs": [
    {
     "name": "stdout",
     "output_type": "stream",
     "text": [
      "[[1. 1. 1.]\n",
      " [1. 1. 1.]\n",
      " [1. 1. 1.]]\n"
     ]
    }
   ],
   "source": [
    "b=np.ones((3,3))\n",
    "print(b)"
   ]
  },
  {
   "cell_type": "code",
   "execution_count": 3,
   "id": "860a3761",
   "metadata": {},
   "outputs": [
    {
     "name": "stdout",
     "output_type": "stream",
     "text": [
      "[[2 2 2]\n",
      " [2 2 2]\n",
      " [2 2 2]]\n"
     ]
    }
   ],
   "source": [
    "c=np.full((3,3),2)\n",
    "print(c)"
   ]
  },
  {
   "cell_type": "code",
   "execution_count": 17,
   "id": "1b1749b4",
   "metadata": {},
   "outputs": [
    {
     "name": "stdout",
     "output_type": "stream",
     "text": [
      "[[1. 0. 0. 0. 0. 0.]\n",
      " [0. 1. 0. 0. 0. 0.]\n",
      " [0. 0. 1. 0. 0. 0.]\n",
      " [0. 0. 0. 1. 0. 0.]\n",
      " [0. 0. 0. 0. 1. 0.]\n",
      " [0. 0. 0. 0. 0. 1.]]\n"
     ]
    }
   ],
   "source": [
    "d=np.eye(6)\n",
    "print(d)"
   ]
  },
  {
   "cell_type": "code",
   "execution_count": 5,
   "id": "9fc40029",
   "metadata": {},
   "outputs": [
    {
     "name": "stdout",
     "output_type": "stream",
     "text": [
      "[[0.96447578 0.84197084]\n",
      " [0.9685517  0.57385569]\n",
      " [0.05798674 0.74304681]]\n"
     ]
    }
   ],
   "source": [
    "e=np.random.random((3,2))\n",
    "print(e)"
   ]
  },
  {
   "cell_type": "code",
   "execution_count": 8,
   "id": "178f61eb",
   "metadata": {},
   "outputs": [
    {
     "data": {
      "text/plain": [
       "array([ 0,  3,  6,  9, 12, 15, 18])"
      ]
     },
     "execution_count": 8,
     "metadata": {},
     "output_type": "execute_result"
    }
   ],
   "source": [
    "f=np.arange(0,21,3)\n",
    "f"
   ]
  },
  {
   "cell_type": "code",
   "execution_count": 25,
   "id": "bfeb4f07",
   "metadata": {},
   "outputs": [
    {
     "data": {
      "text/plain": [
       "array([0.        , 0.55555556, 1.11111111, 1.66666667, 2.22222222,\n",
       "       2.77777778, 3.33333333, 3.88888889, 4.44444444, 5.        ])"
      ]
     },
     "execution_count": 25,
     "metadata": {},
     "output_type": "execute_result"
    }
   ],
   "source": [
    "g=np.linspace(0,5,10)\n",
    "g"
   ]
  },
  {
   "cell_type": "code",
   "execution_count": 21,
   "id": "6f9290a1",
   "metadata": {},
   "outputs": [
    {
     "name": "stdout",
     "output_type": "stream",
     "text": [
      "\n",
      " origional array:\n",
      " [[1 2 3 4]\n",
      " [5 2 4 2]\n",
      " [1 2 0 1]]\n",
      "\n",
      " reshape array:\n",
      " [[[1 2 3]\n",
      "  [4 5 2]]\n",
      "\n",
      " [[4 2 1]\n",
      "  [2 0 1]]]\n"
     ]
    }
   ],
   "source": [
    "import numpy as np\n",
    "arr=np.array([[1,2,3,4],\n",
    "            [5,2,4,2],\n",
    "            [1,2,0,1]])\n",
    "newarr=arr.reshape(2,2,3)\n",
    "print(\"\\n origional array:\\n\",arr)\n",
    "print(\"\\n reshape array:\\n\",newarr)"
   ]
  },
  {
   "cell_type": "code",
   "execution_count": 22,
   "id": "8b551b1f",
   "metadata": {},
   "outputs": [
    {
     "name": "stdout",
     "output_type": "stream",
     "text": [
      "\n",
      " origional array:\n",
      " [[1 2 3]\n",
      " [4 5 6]]\n",
      "\n",
      " fattened array:\n",
      " [1 2 3 4 5 6]\n"
     ]
    }
   ],
   "source": [
    "a=np.array([[1,2,3],[4,5,6]])\n",
    "flarr=a.flatten()\n",
    "print(\"\\n origional array:\\n\",a)\n",
    "print(\"\\n fattened array:\\n\",flarr)"
   ]
  },
  {
   "cell_type": "markdown",
   "id": "4d44f267",
   "metadata": {},
   "source": [
    "# slicing array"
   ]
  },
  {
   "cell_type": "code",
   "execution_count": 30,
   "id": "de0670cb",
   "metadata": {},
   "outputs": [
    {
     "data": {
      "text/plain": [
       "array([[ 1,  2,  3,  4],\n",
       "       [ 5,  6,  7,  8],\n",
       "       [ 9, 10, 11, 12]])"
      ]
     },
     "execution_count": 30,
     "metadata": {},
     "output_type": "execute_result"
    }
   ],
   "source": [
    "a=np.array([[1,2,3,4],[5,6,7,8],[9,10,11,12]])\n",
    "a"
   ]
  },
  {
   "cell_type": "code",
   "execution_count": 31,
   "id": "8a9743cc",
   "metadata": {},
   "outputs": [
    {
     "data": {
      "text/plain": [
       "array([[2, 3],\n",
       "       [6, 7]])"
      ]
     },
     "execution_count": 31,
     "metadata": {},
     "output_type": "execute_result"
    }
   ],
   "source": [
    "b=a[0:2,1:3]\n",
    "b"
   ]
  },
  {
   "cell_type": "code",
   "execution_count": 48,
   "id": "8ac2747f",
   "metadata": {},
   "outputs": [],
   "source": [
    "a=np.array([[1,2,3,4],[5,6,7,8],[9,10,11,12]])"
   ]
  },
  {
   "cell_type": "code",
   "execution_count": 49,
   "id": "924519e7",
   "metadata": {},
   "outputs": [
    {
     "name": "stdout",
     "output_type": "stream",
     "text": [
      "6\n"
     ]
    }
   ],
   "source": [
    "print(a[1,1])"
   ]
  },
  {
   "cell_type": "code",
   "execution_count": 50,
   "id": "421900f3",
   "metadata": {},
   "outputs": [
    {
     "data": {
      "text/plain": [
       "array([[ 1, 77,  3,  4],\n",
       "       [ 5,  6,  7,  8],\n",
       "       [ 9, 10, 11, 12]])"
      ]
     },
     "execution_count": 50,
     "metadata": {},
     "output_type": "execute_result"
    }
   ],
   "source": [
    "a[0,1]=77\n",
    "a"
   ]
  },
  {
   "cell_type": "code",
   "execution_count": 51,
   "id": "98b4b32e",
   "metadata": {},
   "outputs": [
    {
     "data": {
      "text/plain": [
       "array([[ 1,  2,  3,  4],\n",
       "       [ 5,  6,  7,  8],\n",
       "       [ 9, 10, 11, 12]])"
      ]
     },
     "execution_count": 51,
     "metadata": {},
     "output_type": "execute_result"
    }
   ],
   "source": [
    "a=np.array([[1,2,3,4],[5,6,7,8],[9,10,11,12]])\n",
    "a"
   ]
  },
  {
   "cell_type": "code",
   "execution_count": 52,
   "id": "9f2baf17",
   "metadata": {},
   "outputs": [
    {
     "name": "stdout",
     "output_type": "stream",
     "text": [
      "[ 9 10 11 12] (4,)\n",
      "[5 6 7 8] (4,)\n"
     ]
    }
   ],
   "source": [
    "row_r1=a[2,:]\n",
    "row_r2=a[1,:]\n",
    "print(row_r1,row_r1.shape)\n",
    "print(row_r2,row_r2.shape)"
   ]
  },
  {
   "cell_type": "code",
   "execution_count": 53,
   "id": "48a72de6",
   "metadata": {},
   "outputs": [
    {
     "data": {
      "text/plain": [
       "array([[ 1,  2,  3,  4],\n",
       "       [ 5,  6,  7,  8],\n",
       "       [ 9, 10, 11, 12]])"
      ]
     },
     "execution_count": 53,
     "metadata": {},
     "output_type": "execute_result"
    }
   ],
   "source": [
    "a"
   ]
  },
  {
   "cell_type": "code",
   "execution_count": 54,
   "id": "0ada95a6",
   "metadata": {},
   "outputs": [
    {
     "data": {
      "text/plain": [
       "array([1, 2, 3, 4])"
      ]
     },
     "execution_count": 54,
     "metadata": {},
     "output_type": "execute_result"
    }
   ],
   "source": [
    "a[0,]"
   ]
  },
  {
   "cell_type": "code",
   "execution_count": 55,
   "id": "87dee07f",
   "metadata": {},
   "outputs": [
    {
     "data": {
      "text/plain": [
       "array([ 2,  6, 10])"
      ]
     },
     "execution_count": 55,
     "metadata": {},
     "output_type": "execute_result"
    }
   ],
   "source": [
    "col_r1=a[:,1]\n",
    "col_r1"
   ]
  },
  {
   "cell_type": "code",
   "execution_count": 56,
   "id": "c83b39e9",
   "metadata": {},
   "outputs": [
    {
     "data": {
      "text/plain": [
       "array([[ 3,  4],\n",
       "       [ 7,  8],\n",
       "       [11, 12]])"
      ]
     },
     "execution_count": 56,
     "metadata": {},
     "output_type": "execute_result"
    }
   ],
   "source": [
    "col_r2=a[:,2:]\n",
    "col_r2"
   ]
  },
  {
   "cell_type": "code",
   "execution_count": 57,
   "id": "25f0bd85",
   "metadata": {},
   "outputs": [
    {
     "name": "stdout",
     "output_type": "stream",
     "text": [
      "[ 2  6 10] (3,)\n",
      "[[ 3  4]\n",
      " [ 7  8]\n",
      " [11 12]] (3, 2)\n"
     ]
    }
   ],
   "source": [
    "print(col_r1,col_r1.shape)\n",
    "print(col_r2,col_r2.shape)"
   ]
  },
  {
   "cell_type": "markdown",
   "id": "5014edb2",
   "metadata": {},
   "source": [
    "# integer array indexing:\n",
    "when you index into numpy arrays"
   ]
  },
  {
   "cell_type": "code",
   "execution_count": 40,
   "id": "8ba150f7",
   "metadata": {},
   "outputs": [
    {
     "data": {
      "text/plain": [
       "array([[-1. ,  2. ,  0. ,  4. ],\n",
       "       [ 4. , -0.5,  6. ,  0. ],\n",
       "       [ 2.6,  0. ,  7. ,  8. ],\n",
       "       [ 3. , -7. ,  4. ,  2. ]])"
      ]
     },
     "execution_count": 40,
     "metadata": {},
     "output_type": "execute_result"
    }
   ],
   "source": [
    "a=np.array([[-1,2,0,4],\n",
    "            [4,-0.5,6,0],\n",
    "            [2.6,0,7,8],\n",
    "            [3,-7,4,2.0]])\n",
    "a"
   ]
  },
  {
   "cell_type": "code",
   "execution_count": 41,
   "id": "6a7b71c7",
   "metadata": {},
   "outputs": [
    {
     "name": "stdout",
     "output_type": "stream",
     "text": [
      "\n",
      " elements at indices(0,3),(1,2),(2,1),(3,0):\n",
      " [4. 6. 0. 3.]\n"
     ]
    }
   ],
   "source": [
    "temp=a[[0,1,2,3],[3,2,1,0]]\n",
    "print(\"\\n elements at indices(0,3),(1,2),(2,1),\"\n",
    "      \"(3,0):\\n\",temp)"
   ]
  },
  {
   "cell_type": "markdown",
   "id": "b1d575c5",
   "metadata": {},
   "source": [
    "# boolean array"
   ]
  },
  {
   "cell_type": "code",
   "execution_count": 42,
   "id": "a9d087a2",
   "metadata": {},
   "outputs": [
    {
     "data": {
      "text/plain": [
       "array([[-1. ,  2. ,  0. ,  4. ],\n",
       "       [ 4. , -0.5,  6. ,  0. ],\n",
       "       [ 2.6,  0. ,  7. ,  8. ],\n",
       "       [ 3. , -7. ,  4. ,  2. ]])"
      ]
     },
     "execution_count": 42,
     "metadata": {},
     "output_type": "execute_result"
    }
   ],
   "source": [
    "a"
   ]
  },
  {
   "cell_type": "code",
   "execution_count": 43,
   "id": "edc9d3c8",
   "metadata": {},
   "outputs": [
    {
     "data": {
      "text/plain": [
       "array([[False,  True, False,  True],\n",
       "       [ True, False,  True, False],\n",
       "       [ True, False,  True,  True],\n",
       "       [ True, False,  True,  True]])"
      ]
     },
     "execution_count": 43,
     "metadata": {},
     "output_type": "execute_result"
    }
   ],
   "source": [
    "cond=a>0\n",
    "cond"
   ]
  },
  {
   "cell_type": "code",
   "execution_count": 44,
   "id": "75dbb5b4",
   "metadata": {},
   "outputs": [
    {
     "name": "stdout",
     "output_type": "stream",
     "text": [
      "\n",
      " elements greater than 0:\n",
      " [2. 0. 4. 4. 6. 0. 0. 8. 4. 2.]\n"
     ]
    }
   ],
   "source": [
    "cond=a%2==0\n",
    "temp=a[cond]\n",
    "print(\"\\n elements greater than 0:\\n\",temp)"
   ]
  },
  {
   "cell_type": "markdown",
   "id": "9b32aa36",
   "metadata": {},
   "source": [
    "# operations"
   ]
  },
  {
   "cell_type": "code",
   "execution_count": 46,
   "id": "3170bc58",
   "metadata": {},
   "outputs": [
    {
     "name": "stdout",
     "output_type": "stream",
     "text": [
      "original elements [1 2 5 3]\n",
      "adding 1 to every element: [2 3 6 4]\n",
      "subtracting 3 from each element: [-2 -1  2  0]\n",
      "multiplying  each element by 10: [10 20 50 30]\n",
      "squaring  each element: [ 1  4 25  9]\n",
      "doubled each element of origional array: [ 2  4 10  6]\n",
      "\n",
      " origional array:\n",
      " [[1 2 3]\n",
      " [4 5 6]\n",
      " [7 8 9]]\n",
      "\n",
      " ttanspose array:\n",
      " [[1 4 7]\n",
      " [2 5 8]\n",
      " [3 6 9]]\n"
     ]
    }
   ],
   "source": [
    "a=np.array([1,2,5,3])\n",
    "print(\"original elements\",a)\n",
    "\n",
    "print(\"adding 1 to every element:\",a+1)\n",
    "\n",
    "print(\"subtracting 3 from each element:\",a-3 )\n",
    "print(\"multiplying  each element by 10:\",a*10 )\n",
    "print(\"squaring  each element:\",a**2 )\n",
    "a*=2\n",
    "print(\"doubled each element of origional array:\",a)\n",
    "a=np.array([[1,2,3],[4,5,6],[7,8,9]])\n",
    "\n",
    "print(\"\\n origional array:\\n\",a)\n",
    "print(\"\\n ttanspose array:\\n\",a.T)"
   ]
  },
  {
   "cell_type": "code",
   "execution_count": 58,
   "id": "aca471b1",
   "metadata": {},
   "outputs": [
    {
     "name": "stdout",
     "output_type": "stream",
     "text": [
      "largest element is: 9\n",
      "row wise maximum element is: [6 7 9]\n",
      "col wise maximum element is: [4 7 9]\n",
      "sum of all array elements: 38\n",
      "cumulative sum along each row:\n",
      " [[ 1  6 12]\n",
      " [ 4 11 13]\n",
      " [ 3  4 13]]\n"
     ]
    }
   ],
   "source": [
    "arr=np.array([[1,5,6],\n",
    "              [4,7,2],\n",
    "              [3,1,9]])\n",
    "\n",
    "print(\"largest element is:\",arr.max())\n",
    "print(\"row wise maximum element is:\",arr.max(axis=1))\n",
    "\n",
    "print(\"col wise maximum element is:\",arr.max(axis=0))\n",
    "print(\"sum of all array elements:\",arr.sum())\n",
    "print(\"cumulative sum along each row:\\n\",arr.cumsum(axis=1))"
   ]
  },
  {
   "cell_type": "code",
   "execution_count": 66,
   "id": "32d35987",
   "metadata": {},
   "outputs": [
    {
     "name": "stdout",
     "output_type": "stream",
     "text": [
      "Array sum:\n",
      " [[5 5]\n",
      " [5 5]]\n",
      "array multiplication:\n",
      " [[4 6]\n",
      " [6 4]]\n",
      "matrix multiplication:\n",
      " [[ 8  5]\n",
      " [20 13]]\n"
     ]
    }
   ],
   "source": [
    "a=np.array([[1,2],\n",
    "            [3,4]])\n",
    "b=np.array([[4,3],[2,1]])\n",
    "\n",
    "print(\"Array sum:\\n\",a+b)\n",
    "\n",
    "print(\"array multiplication:\\n\",a*b)\n",
    "\n",
    "print(\"matrix multiplication:\\n\",a.dot(b))"
   ]
  },
  {
   "cell_type": "code",
   "execution_count": 67,
   "id": "0ce38c22",
   "metadata": {},
   "outputs": [
    {
     "name": "stdout",
     "output_type": "stream",
     "text": [
      "exponent of array elements: [3.21887582 2.77258872 1.38629436 2.19722458]\n",
      "square root of array elements: [5. 4. 2. 3.]\n"
     ]
    }
   ],
   "source": [
    "a=np.array([25,16,4,9])\n",
    "print(\"exponent of array elements:\",np.log(a))\n",
    "\n",
    "print(\"square root of array elements:\",np.sqrt(a))"
   ]
  },
  {
   "cell_type": "markdown",
   "id": "be2106ce",
   "metadata": {},
   "source": [
    "# "
   ]
  },
  {
   "cell_type": "code",
   "execution_count": 5,
   "id": "f4fe37d8",
   "metadata": {},
   "outputs": [
    {
     "name": "stdout",
     "output_type": "stream",
     "text": [
      "array element in sorted order:\n",
      " [-1  0  1  2  3  4  4  5  6]\n"
     ]
    }
   ],
   "source": [
    "a=np.array([[1,4,2],\n",
    "            [3,4,6],\n",
    "            [0,-1,5]])\n",
    "\n",
    "print(\"array element in sorted order:\\n\",np.sort(a,axis=None))"
   ]
  },
  {
   "cell_type": "code",
   "execution_count": 69,
   "id": "82bff1c8",
   "metadata": {},
   "outputs": [
    {
     "name": "stdout",
     "output_type": "stream",
     "text": [
      "col wise sorted array:\n",
      " [[ 0 -1  2]\n",
      " [ 1  4  5]\n",
      " [ 3  4  6]]\n"
     ]
    }
   ],
   "source": [
    "print(\"col wise sorted array:\\n\",np.sort(a,axis=0))"
   ]
  },
  {
   "cell_type": "code",
   "execution_count": 70,
   "id": "52d2b73a",
   "metadata": {},
   "outputs": [
    {
     "name": "stdout",
     "output_type": "stream",
     "text": [
      "row wise sort by applying merge-sort:\n",
      " [[ 1  2  4]\n",
      " [ 3  4  6]\n",
      " [-1  0  5]]\n"
     ]
    }
   ],
   "source": [
    "print(\"row wise sort by applying merge-sort:\\n\",np.sort(a,axis=1))"
   ]
  },
  {
   "cell_type": "code",
   "execution_count": null,
   "id": "258d167d",
   "metadata": {},
   "outputs": [],
   "source": []
  }
 ],
 "metadata": {
  "kernelspec": {
   "display_name": "Python 3 (ipykernel)",
   "language": "python",
   "name": "python3"
  },
  "language_info": {
   "codemirror_mode": {
    "name": "ipython",
    "version": 3
   },
   "file_extension": ".py",
   "mimetype": "text/x-python",
   "name": "python",
   "nbconvert_exporter": "python",
   "pygments_lexer": "ipython3",
   "version": "3.9.12"
  }
 },
 "nbformat": 4,
 "nbformat_minor": 5
}
